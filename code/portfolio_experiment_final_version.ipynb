{
 "cells": [
  {
   "cell_type": "markdown",
   "metadata": {},
   "source": [
    "# Portfolio Experiment"
   ]
  },
  {
   "cell_type": "markdown",
   "metadata": {},
   "source": [
    "## Working Environment\n",
    "\n",
    "#### Please ensure that you have the following packages installed\n",
    "math; pandas; numpy; matplotlib; random; scipy; hmmlearn; sklearn"
   ]
  },
  {
   "cell_type": "code",
   "execution_count": 1,
   "metadata": {
    "vscode": {
     "languageId": "python"
    }
   },
   "outputs": [],
   "source": [
    "from main_head import *"
   ]
  },
  {
   "attachments": {},
   "cell_type": "markdown",
   "metadata": {},
   "source": [
    "# Experiment 1: Empirical Studies Section 4.3 - 4.5\n",
    "## Overall Parameter Setup\n",
    "The overall parameter choice is set in the ``CVaR_parameter.py``. Below are some of parameters selected in our experiment."
   ]
  },
  {
   "cell_type": "code",
   "execution_count": 2,
   "metadata": {
    "vscode": {
     "languageId": "python"
    }
   },
   "outputs": [],
   "source": [
    "# epsilon is the fixed parameter regarding optimizing CVaR, representing 1-\\eta\n",
    "epsilon = 0.05\n",
    "\n",
    "# for the whole rolling approach, the number of days we consider in each period\n",
    "## It is not just the physical days. Instead, in our paper, we consider the month as a unit. \n",
    "rolling_day = 1\n",
    "\n",
    "# It denotes whether we include the shortsale constraints in our optimization model\n",
    "## 0 represents that we incorporate the shortsale constraint: x_i >= 0 in our paper\n",
    "shortsale_sign = 0\n",
    "\n",
    "# cross validation choice\n",
    "## cv_type == -1 means no  \n",
    "## cv_type == 1 means gridsearch\n",
    "cv_type = 1\n",
    "\n",
    "# the K-fold number in cross validation\n",
    "fold_number = 4\n",
    "\n",
    "# the possible theta param corresponding to m in the paper) used in the cross validation\n",
    "theta_param = [0.02, 0.04, 0.06, 0.08, 0.1]\n",
    "\n",
    "# whether we take the risk-free rate into account in computing SR\n",
    "## true means we need to minus the risk-free rate from the dataset and false means not\n",
    "## Because DeMiguel's paper does not incorporate risk free rate, we do not incorporate that item too in the test statistics computation.\n",
    "sharpe_ratio_open = False\n",
    "\n",
    "#to make it more clearly, unit = 1 means the unit of portfolio dta is x%, unit = 100 means the unit of portfolio dta is x. \n",
    "unit = 1"
   ]
  },
  {
   "cell_type": "markdown",
   "metadata": {},
   "source": [
    "## Initial Specific Data Set Choice\n",
    "Below are the parameters that fix the data sets in the $\\texttt{factor model}$ folder. We choose the concrete dataset in that folder. By changing those parameters, we can switch to different datasets."
   ]
  },
  {
   "cell_type": "code",
   "execution_count": 3,
   "metadata": {
    "vscode": {
     "languageId": "python"
    }
   },
   "outputs": [],
   "source": [
    "#choose the dataset name and the file path\n",
    "portfolio_number = 16\n",
    "freq = \"Monthly\"\n",
    "#Here as we all use the Monthly Data Set, we can fix that parameter\n",
    "\n",
    "value = \"\"\n",
    "#eq/not eq csv in the . Here we all use the original dataset class.\n",
    "\n",
    "#dta type\n",
    "## In DeMiguel's paper, the dta type are selected to be one in ['MKT', 'Country', 'S&P_sectors', 'IndustryPortfolios', 'FF']\n",
    "## When his dataset extended to 2019 Q1, the dta type are selected to be one in ['MKT2', 'Country2', 'S&P_sectors2', 'IndustryPortfolios2', 'FF22']\n",
    "## Their corresponding portfolio number is 3, 9, 11, 11, 21(24)\n",
    "## And in our case study, dta type are selected to be 'IndustryIndices' (16)\n",
    "data_type = \"IndustryIndices\"\n",
    "\n",
    "#select part of the data in the .csv file.\n",
    "## from start_time to train_test_split as the default train dataset; from train_test_split (not include) as the test dataset.\n",
    "start_time = 20040101\n",
    "end_time = 201905\n",
    "train_test_split = 20061231"
   ]
  },
  {
   "attachments": {},
   "cell_type": "markdown",
   "metadata": {},
   "source": [
    "## Load the Data\n",
    "we load the return data and its corresponding factor data below using the class from ``data_process/input.py``.\n",
    "\n",
    "Note that the expressions for the model are explicitly written in the paper. We apply a rolling-sample approach with window size to be $M$. For the overall $T$ monthly-long data, in each month $t$, we use the dataset from months $t$ to $t + M - 1$ as input to solve the portfolio optimization problem. Then, we obtain the portfolio weights by solving the optimization problem for month $t + M$, where optimized weights $x_{i}^*$ are used to compute the returns $t + M$."
   ]
  },
  {
   "cell_type": "code",
   "execution_count": 4,
   "metadata": {
    "vscode": {
     "languageId": "python"
    }
   },
   "outputs": [],
   "source": [
    "#data input\n",
    "Input_csv = Input(portfolio_number, freq, value, start_time, end_time, train_test_split, data_type)\n",
    "[data_head, data_parameter, csv_name] = Input_csv.parameter_output()\n",
    "[df_select, df_train] = Input_csv.data_load()\n",
    "\n",
    "df_factor = Input_csv.three_factor_load()\n",
    "#we do not include the risk free rate item into the computation of sharpe ratio\n",
    "if sharpe_ratio_open == False:\n",
    "    rfr_data = 0\n",
    "else:\n",
    "    rfr_data = Input_csv.risk_free_rate()"
   ]
  },
  {
   "attachments": {},
   "cell_type": "markdown",
   "metadata": {},
   "source": [
    "## Evaluation \n",
    "To evaluate the performance of each model, we compute the following return statistics similar to what have done in DeMiguel et al. (2009b).The return statistics are computed in ``data_process/test_result.py`` and the turnover metric is computed in each model. We refer the output information to the ``result_hmm/xx.csv``.\n",
    "## Output Return Statistics Computation & Comparison\n",
    "### Sharpe ratio\n",
    "We denote the out-of-sample Sharpe ratio as the sample mean of the out-of-sample excess return $\\hat{\\mu}$ over the risk-free asset, then divided by their sample standard deviation, $\\hat{\\sigma}$:\n",
    "$$\\text{Sharpe ratio} = \\frac{\\hat{\\mu}}{\\hat{\\sigma}}$$\n",
    "### CEQ\n",
    "We measure the certainty equivalent (CEQ) return, defined as the risk-free rate that an investor is willing to take compared to a specific model.\n",
    "$$\\text{CEQ} = \\hat{\\mu} - \\frac{1}{2}\\hat{\\sigma}^2.$$\n",
    "### drawdown\n",
    "(Maximum) drawdown can be extracted from the formula: $-\\min\\{\\boldsymbol r_{M + 1},\\boldsymbol r_{M + 2},...,\\boldsymbol r_T \\}.$\n",
    "### turnover\n",
    "This is computed by the average of the $\\ell_1$ norm of the trades across the $N$ risky assets:\n",
    "$$\\text{Turnover} = \\frac{1}{T - M}\\sum_{t = 1}^{T - M}\\|\\boldsymbol x_{t + 1}^* - \\boldsymbol x_{t_+}\\|_1,$$\n",
    "where $\\boldsymbol x_{t+1}^*$ is the optimal portfolio weight vector at time $t + 1$ and $\\boldsymbol x_{t_+}$ is th portfolio weight right before rebalancing at time $t + 1$."
   ]
  },
  {
   "cell_type": "code",
   "execution_count": 5,
   "metadata": {
    "vscode": {
     "languageId": "python"
    }
   },
   "outputs": [
    {
     "name": "stdout",
     "output_type": "stream",
     "text": [
      "done\n"
     ]
    }
   ],
   "source": [
    "#initiation for the test metric module\n",
    "#print the output into a separate csv file, separated by the dataset type + header\n",
    "Output_csv = output(csv_name, data_head, data_parameter)\n",
    "Output_csv.head()"
   ]
  },
  {
   "cell_type": "markdown",
   "metadata": {},
   "source": [
    "## Benchmark"
   ]
  },
  {
   "cell_type": "markdown",
   "metadata": {},
   "source": [
    "## Benchmark Strategies\n",
    "$\\texttt{method.rolling(shortsale)}$ represents the rolling-sample approach for each model.\n",
    "### Equally Weighted Portfolio\n",
    "This equally weighted strategy means that we consider the portfolio weight to be as follows for each of the $I$ risky assets:\n",
    "$$w_i = \\frac{1}{I},$$\n",
    "which gains popularity for its robustness in DeMiguel et al. (2009b)."
   ]
  },
  {
   "cell_type": "code",
   "execution_count": 12,
   "metadata": {
    "vscode": {
     "languageId": "python"
    }
   },
   "outputs": [
    {
     "name": "stdout",
     "output_type": "stream",
     "text": [
      "184 36\n",
      "For the model with strategy name  EW portfolio\n",
      "The Monthly Sharpe Ratio =  0.10897235636499307\n",
      "CEQ =  0.0029030162860526417\n",
      "Drawdown =  -0.3829684339776208\n",
      "Turnover =  0.037593675961054306\n",
      "=================================\n"
     ]
    }
   ],
   "source": [
    "# EW Portfolio\n",
    "naive = naive_strategy(df_select, df_train, rolling_day, portfolio_number, \"EW portfolio\")\n",
    "naive.rolling()\n",
    "Output_csv.return_info(naive, rfr_data)"
   ]
  },
  {
   "cell_type": "markdown",
   "metadata": {},
   "source": [
    "The following model requires the information of history returns $\\{\\boldsymbol{r}_1, \\boldsymbol{r}_2,...,\\boldsymbol{r}_M\\}$.\n",
    "## CVaR\n",
    "The optimization problem for the $\\texttt{CVaR}$ metric is computed below:\n",
    "$$\\min_{\\boldsymbol x \\in \\mathcal{X}, v \\in \\mathbb{R}}\\left\\{v+\\frac{1}{1-\\eta} \\frac{1}{M}\\sum\\limits_{i \\in[M]}\\left(-\\boldsymbol r_{i}^{\\prime} \\boldsymbol x-v\\right)^{+}\\right\\}$$"
   ]
  },
  {
   "cell_type": "code",
   "execution_count": 13,
   "metadata": {
    "vscode": {
     "languageId": "python"
    }
   },
   "outputs": [
    {
     "name": "stdout",
     "output_type": "stream",
     "text": [
      "Using license file D:\\ProgramFiles\\gurobi903\\gurobi.lic\n",
      "Academic license - for non-commercial use only\n",
      "For the model with strategy name  CVaR\n",
      "The Monthly Sharpe Ratio =  0.013843392144446654\n",
      "CEQ =  6.174958883421348e-05\n",
      "Drawdown =  -0.26944224262581784\n",
      "Turnover =  0.16242807201509424\n",
      "=================================\n"
     ]
    }
   ],
   "source": [
    "# SAA-CVaR model\n",
    "saa_CVaR = SAA_CVaR(df_select, df_train, rolling_day, portfolio_number, 'CVaR')\n",
    "train_return = saa_CVaR.rolling()  \n",
    "Output_csv.return_info(saa_CVaR, rfr_data)"
   ]
  },
  {
   "cell_type": "markdown",
   "metadata": {},
   "source": [
    "## DR CVaR (Wasserstein)\n",
    "Common ways to illustrate the Wasserstein ambiguity set:\n",
    "$$F_{W}(\\theta)=\\left\\{\\mathbb{P} \\in \\mathcal{P}\\left(\\mathbb{R}^{I}\\right) ~\\left\\vert~ \\begin{array}{ll}{\\tilde{\\boldsymbol r} \\sim \\mathbb{P}}\\\\ {\\hat{\\mathbb{P}}_M:=\\frac{1}{M}\\sum_{n = 1}^{M}\\delta_{\\boldsymbol r_{n}}}\\\\{P(W_p(\\mathbb{P},\\hat{\\mathbb{P}}_M) \\leq \\theta) = 1}\\end{array}\\right.\\right\\}.$$"
   ]
  },
  {
   "cell_type": "code",
   "execution_count": 14,
   "metadata": {
    "vscode": {
     "languageId": "python"
    }
   },
   "outputs": [
    {
     "name": "stdout",
     "output_type": "stream",
     "text": [
      "For the model with strategy name  DR CVaR (Wasserstein)\n",
      "The Monthly Sharpe Ratio =  0.10809414899889463\n",
      "CEQ =  0.002631628265429075\n",
      "Drawdown =  -0.31969271666246124\n",
      "Turnover =  0.1924298093644551\n",
      "=================================\n"
     ]
    }
   ],
   "source": [
    "method_name = \"DR CVaR (Wasserstein)\"\n",
    "mean_constr = False\n",
    "fcvar_wasserstein2 = FCVaR_wasserstein2(df_select, df_train, rolling_day, portfolio_number, 1, method_name, cv_type, mean_constr)\n",
    "fcvar_wasserstein2.rolling()\n",
    "Output_csv.return_info(fcvar_wasserstein2, rfr_data)"
   ]
  },
  {
   "attachments": {},
   "cell_type": "markdown",
   "metadata": {},
   "source": [
    "# DR Mean-CVaR (Momemts)\n",
    "The method proposed in ``Kang et al. (2019)``\n"
   ]
  },
  {
   "cell_type": "code",
   "execution_count": 16,
   "metadata": {
    "vscode": {
     "languageId": "python"
    }
   },
   "outputs": [
    {
     "name": "stdout",
     "output_type": "stream",
     "text": [
      "0 2.629752227\n",
      "1 2.58305527\n",
      "2 2.58305527\n",
      "3 2.588730249\n",
      "4 2.301049666\n",
      "5 2.301049666\n",
      "6 2.304304127\n",
      "7 2.26754787\n",
      "8 2.3023316649999996\n",
      "9 2.265631665\n",
      "10 2.268374181\n",
      "11 2.4148627510000003\n",
      "12 2.374762751\n",
      "13 2.496579917\n",
      "14 2.453389515\n",
      "15 2.4801338370000003\n",
      "16 2.48054584\n",
      "17 2.484271741\n",
      "18 2.49421032\n",
      "19 2.530902651\n",
      "20 2.682711831\n",
      "21 2.801482001\n",
      "22 4.378864001\n",
      "23 4.498623681\n",
      "24 4.625003276999999\n",
      "25 4.817703277\n",
      "26 4.808049565999999\n",
      "27 4.8037495660000005\n",
      "28 5.498441236\n",
      "29 5.736541236000001\n",
      "30 5.736541236000001\n",
      "31 5.736541236000001\n",
      "32 5.736541236000001\n",
      "33 5.736541236000001\n",
      "34 5.736541236000001\n",
      "35 5.737241236\n",
      "36 5.742690493\n",
      "37 5.742690493\n",
      "38 5.742690493\n",
      "39 5.742690493\n",
      "40 5.736363921\n",
      "41 5.736363921\n",
      "42 5.736363921\n",
      "43 5.736363921\n",
      "44 5.736363921\n",
      "45 5.736363921\n",
      "46 5.736363921\n",
      "47 5.736363921\n",
      "48 5.736363921\n",
      "49 5.736363921\n",
      "50 5.736363921\n",
      "51 5.736363921\n",
      "52 5.749106288\n",
      "53 5.753233632000001\n",
      "54 5.753233632000001\n",
      "55 5.753233632000001\n",
      "56 5.731433632\n",
      "57 5.744793614\n",
      "58 4.657131919\n",
      "59 4.570397891\n",
      "60 4.36191551\n",
      "61 4.27751551\n",
      "62 4.195050581\n",
      "63 4.088508906\n",
      "64 3.685620322\n",
      "65 3.591287165\n",
      "66 3.591287165\n",
      "67 3.580984124\n",
      "68 3.411649743\n",
      "69 3.411649743\n",
      "70 3.411649743\n",
      "71 3.4134530759999997\n",
      "72 3.350916326\n",
      "73 3.350916326\n",
      "74 3.350916326\n",
      "75 3.309313222\n",
      "76 3.311395928\n",
      "77 3.4365552809999995\n",
      "78 3.4375491539999996\n",
      "79 3.4375491539999996\n",
      "80 3.4322286799999997\n",
      "81 3.4305931739999997\n",
      "82 3.4305931739999997\n",
      "83 3.432341494\n",
      "84 3.432341494\n",
      "85 3.432341494\n",
      "86 3.410116469\n",
      "87 3.410116469\n",
      "88 3.323416469\n",
      "89 3.323416469\n",
      "90 3.323416469\n",
      "91 3.3143923280000003\n",
      "92 2.709937182\n",
      "93 2.5787371820000002\n",
      "94 2.553786762\n",
      "95 2.589347756\n",
      "96 2.595735134\n",
      "97 2.614868946\n",
      "98 2.605723817\n",
      "99 2.605723817\n",
      "100 2.763923817\n",
      "101 2.723583589\n",
      "102 2.723583589\n",
      "103 2.745334423\n",
      "104 2.745334423\n",
      "105 2.844905121\n",
      "106 2.8661936060000004\n",
      "107 2.8484163240000004\n",
      "108 2.8502873230000003\n",
      "109 3.026277415\n",
      "110 3.081484629\n",
      "111 3.1503155420000004\n",
      "112 3.1286155420000004\n",
      "113 3.068079077\n",
      "114 2.993001632\n",
      "115 2.993001632\n",
      "116 2.9603016319999997\n",
      "117 2.9603016319999997\n",
      "118 2.9603016319999997\n",
      "119 3.098954804\n",
      "120 3.111557576\n",
      "121 3.111557576\n",
      "122 3.111557576\n",
      "123 3.111557576\n",
      "124 3.111557576\n",
      "125 3.111557576\n",
      "126 3.111557576\n",
      "127 3.111557576\n",
      "128 3.111557576\n",
      "129 3.083480058\n",
      "130 3.083480058\n",
      "131 3.060463574\n",
      "132 3.087706868\n",
      "133 3.054053957\n",
      "134 3.076258833\n",
      "135 3.076258833\n",
      "136 3.025758833\n",
      "137 3.025758833\n",
      "138 3.025758833\n",
      "139 2.9631588329999996\n",
      "140 2.9631588329999996\n",
      "141 2.951788276\n",
      "142 2.9439147849999996\n",
      "143 3.0201147849999996\n",
      "144 3.0226502149999996\n",
      "145 2.956238349\n",
      "146 2.9611078179999994\n",
      "147 2.9239334489999997\n",
      "For the model with strategy name  DR Mean-CVaR\n",
      "The Monthly Sharpe Ratio =  0.11456916855979962\n",
      "CEQ =  0.0022548483571809296\n",
      "Drawdown =  -0.28903240066196567\n",
      "Turnover =  0.04967332293987736\n",
      "=================================\n"
     ]
    }
   ],
   "source": [
    "meancvar = mean_FCVaR(df_select, df_train, rolling_day, portfolio_number, 'DR Mean-CVaR')\n",
    "meancvar.rolling()\n",
    "Output_csv.return_info(meancvar, rfr_data)"
   ]
  },
  {
   "cell_type": "code",
   "execution_count": 19,
   "metadata": {
    "vscode": {
     "languageId": "python"
    }
   },
   "outputs": [
    {
     "name": "stdout",
     "output_type": "stream",
     "text": [
      "For the model with strategy name  MVP\n",
      "The Monthly Sharpe Ratio =  0.029734779023708795\n",
      "CEQ =  0.0003172302476354917\n",
      "Drawdown =  -0.20196165266650556\n",
      "Turnover =  0.09954737933550041\n",
      "=================================\n"
     ]
    }
   ],
   "source": [
    "mvp = MVP(df_select, df_train, rolling_day, portfolio_number, df_factor, 'MVP')\n",
    "mvp.rolling(0)\n",
    "Output_csv.return_info(mvp, rfr_data)"
   ]
  },
  {
   "cell_type": "markdown",
   "metadata": {},
   "source": [
    "## Incoporate the Mean Constraint\n",
    "### How to incorporate the mean constraint:\n",
    "For a traditionally problem, the mean constraint refers to: $\\boldsymbol \\mu^{\\prime}\\boldsymbol x \\geq R.$ \n",
    "\n",
    "In the distributionally robust version, we incorporate the following mean constraint:\n",
    "$$\\inf_{\\mathbb{P} \\in F} \\mathbb{E}_{\\mathbb{P}}[\\boldsymbol r^{\\prime}\\boldsymbol x]\\geq R.$$"
   ]
  },
  {
   "cell_type": "markdown",
   "metadata": {},
   "source": [
    "## Our Proposed Model"
   ]
  },
  {
   "cell_type": "code",
   "execution_count": 18,
   "metadata": {
    "vscode": {
     "languageId": "python"
    }
   },
   "outputs": [],
   "source": [
    "#whether to incorporate the worst-case mean constraint\n",
    "mean_sign = 'Mean-'\n",
    "\n",
    "#choice_index = 0 --> Bull & Bear;\n",
    "#choice_index = 1 --> Weathers\n",
    "#choice_index = 2 --> HMM\n",
    "choice_index = 2\n",
    "hmm_type = -1\n",
    "\n",
    "if mean_sign == \"\":\n",
    "    mean_constr = False\n",
    "else:\n",
    "    mean_constr = 'worst-case'\n",
    "\n",
    "cls_num_choice = [2, 4, 4]\n",
    "state_choice = ['BB', 'weathers', 'HMM']\n",
    "method_choice = ['(Bull & Bear)', '(Weathers)', '(HMM)']    "
   ]
  },
  {
   "attachments": {},
   "cell_type": "markdown",
   "metadata": {},
   "source": [
    "### Pretrained for determining the Markovian States\n",
    "We use the MATLAB hmmtrain function for training the HMM model.\n",
    "\n",
    "And we use the difference between predicted GDP (CPI) and true GDP (CPI)to classify into 2 states.\n",
    "\n",
    "And Bull & Bear state results are saved in ``factor model/BB_state.csv``;\n",
    "\n",
    "Weathers results are saved in ``factor model/weathers_state.csv``;\n",
    "\n",
    "HMM results are saved in ``factor model/HMM_state.csv``.\n",
    "\n"
   ]
  },
  {
   "cell_type": "markdown",
   "metadata": {},
   "source": [
    "### Regime Determination\n",
    "We would first load the HMM / Weathers / Bull & Bear Classification result within the right train test time."
   ]
  },
  {
   "cell_type": "code",
   "execution_count": 19,
   "metadata": {
    "vscode": {
     "languageId": "python"
    }
   },
   "outputs": [],
   "source": [
    "# Pretrain for Heterogeneous I\n",
    "cluster_num = cls_num_choice[choice_index]\n",
    "df_state_case = pd.read_csv('../factor model/' + state_choice[choice_index] + '_state.csv')\n",
    "str_state = [str(each_state) for each_state in list(df_state_case['Date'])]\n",
    "df_state_case['Date'] = str_state\n",
    "mkt_state = df_state_case[((df_state_case['Date'])>=str(start_time))&(df_state_case['Date']<str(end_time))]['state']\n"
   ]
  },
  {
   "cell_type": "markdown",
   "metadata": {},
   "source": [
    "#### RS CVaR Model\n",
    "i.e. our proposed model with $\\theta = 0$."
   ]
  },
  {
   "cell_type": "code",
   "execution_count": 20,
   "metadata": {
    "vscode": {
     "languageId": "python"
    }
   },
   "outputs": [
    {
     "name": "stdout",
     "output_type": "stream",
     "text": [
      "0\n",
      "1\n",
      "2\n",
      "3\n",
      "4\n",
      "5\n",
      "6\n",
      "7\n",
      "8\n",
      "9\n",
      "10\n",
      "11\n",
      "12\n",
      "13\n",
      "14\n",
      "15\n",
      "16\n",
      "17\n",
      "18\n",
      "19\n",
      "20\n",
      "21\n",
      "22\n",
      "23\n",
      "24\n",
      "25\n",
      "26\n",
      "27\n",
      "28\n",
      "29\n",
      "30\n",
      "31\n",
      "32\n",
      "33\n",
      "34\n",
      "35\n",
      "36\n",
      "37\n",
      "38\n",
      "39\n",
      "40\n",
      "41\n",
      "42\n",
      "43\n",
      "44\n",
      "45\n",
      "46\n",
      "47\n",
      "48\n",
      "49\n",
      "50\n",
      "51\n",
      "52\n",
      "53\n",
      "54\n",
      "55\n",
      "56\n",
      "57\n",
      "58\n",
      "59\n",
      "60\n",
      "61\n",
      "62\n",
      "63\n",
      "64\n",
      "65\n",
      "66\n",
      "67\n",
      "68\n",
      "69\n",
      "70\n",
      "71\n",
      "72\n",
      "73\n",
      "74\n",
      "75\n",
      "76\n",
      "77\n",
      "78\n",
      "79\n",
      "80\n",
      "81\n",
      "82\n",
      "83\n",
      "84\n",
      "85\n",
      "86\n",
      "87\n",
      "88\n",
      "89\n",
      "90\n",
      "91\n",
      "92\n",
      "93\n",
      "94\n",
      "95\n",
      "96\n",
      "97\n",
      "98\n",
      "99\n",
      "100\n",
      "101\n",
      "102\n",
      "103\n",
      "104\n",
      "105\n",
      "106\n",
      "107\n",
      "108\n",
      "109\n",
      "110\n",
      "111\n",
      "112\n",
      "113\n",
      "114\n",
      "115\n",
      "116\n",
      "117\n",
      "118\n",
      "119\n",
      "120\n",
      "121\n",
      "122\n",
      "123\n",
      "124\n",
      "125\n",
      "126\n",
      "127\n",
      "128\n",
      "129\n",
      "130\n",
      "131\n",
      "132\n",
      "133\n",
      "134\n",
      "135\n",
      "136\n",
      "137\n",
      "138\n",
      "139\n",
      "140\n",
      "141\n",
      "142\n",
      "143\n",
      "144\n",
      "145\n",
      "146\n",
      "147\n"
     ]
    }
   ],
   "source": [
    "method_name = 'RS ' + mean_sign + 'CVaR ' + method_choice[choice_index]\n",
    "cv_type = -1\n",
    "mean_cvar_mkt = FCVaR_HMM_wasserstein(df_select, df_train, rolling_day, portfolio_number, df_factor, cluster_num, method_name, mkt_state, hmm_type, cv_type, mean_constr)\n",
    "mean_cvar_mkt.theta = 0\n",
    "mean_cvar_mkt.rolling()"
   ]
  },
  {
   "cell_type": "code",
   "execution_count": 21,
   "metadata": {
    "vscode": {
     "languageId": "python"
    }
   },
   "outputs": [
    {
     "name": "stdout",
     "output_type": "stream",
     "text": [
      "For the model with strategy name  RS Mean-CVaR (HMM)\n",
      "The Monthly Sharpe Ratio =  0.08175997523167387\n",
      "CEQ =  0.0016319633090451178\n",
      "Drawdown =  -0.2714302341705067\n",
      "Turnover =  0.5865672746850097\n",
      "=================================\n"
     ]
    }
   ],
   "source": [
    "Output_csv.return_info(mean_cvar_mkt, rfr_data)"
   ]
  },
  {
   "cell_type": "markdown",
   "metadata": {},
   "source": [
    "#### Our RSDR model"
   ]
  },
  {
   "cell_type": "code",
   "execution_count": 22,
   "metadata": {
    "vscode": {
     "languageId": "python"
    }
   },
   "outputs": [
    {
     "name": "stdout",
     "output_type": "stream",
     "text": [
      "0\n",
      "1\n",
      "Unable to retrieve attribute 'objVal'\n",
      "2\n",
      "Unable to retrieve attribute 'objVal'\n",
      "Unable to retrieve attribute 'objVal'\n",
      "3\n",
      "Unable to retrieve attribute 'objVal'\n",
      "4\n",
      "Unable to retrieve attribute 'objVal'\n",
      "Unable to retrieve attribute 'objVal'\n",
      "5\n",
      "Unable to retrieve attribute 'objVal'\n",
      "Unable to retrieve attribute 'objVal'\n",
      "6\n",
      "Unable to retrieve attribute 'objVal'\n",
      "Unable to retrieve attribute 'objVal'\n",
      "7\n",
      "Unable to retrieve attribute 'objVal'\n",
      "8\n",
      "Unable to retrieve attribute 'objVal'\n",
      "Unable to retrieve attribute 'objVal'\n",
      "9\n",
      "Unable to retrieve attribute 'objVal'\n",
      "Unable to retrieve attribute 'objVal'\n",
      "10\n",
      "Unable to retrieve attribute 'objVal'\n",
      "11\n",
      "Unable to retrieve attribute 'objVal'\n",
      "Unable to retrieve attribute 'objVal'\n",
      "12\n",
      "Unable to retrieve attribute 'objVal'\n",
      "Unable to retrieve attribute 'objVal'\n",
      "13\n",
      "14\n",
      "15\n",
      "Unable to retrieve attribute 'objVal'\n",
      "16\n",
      "17\n",
      "18\n",
      "19\n",
      "Unable to retrieve attribute 'objVal'\n",
      "20\n",
      "21\n",
      "Unable to retrieve attribute 'objVal'\n",
      "Unable to retrieve attribute 'objVal'\n",
      "22\n",
      "Unable to retrieve attribute 'objVal'\n",
      "Unable to retrieve attribute 'objVal'\n",
      "23\n",
      "Unable to retrieve attribute 'objVal'\n",
      "Unable to retrieve attribute 'objVal'\n",
      "24\n",
      "Unable to retrieve attribute 'objVal'\n",
      "Unable to retrieve attribute 'objVal'\n",
      "25\n",
      "Unable to retrieve attribute 'objVal'\n",
      "Unable to retrieve attribute 'objVal'\n",
      "26\n",
      "Unable to retrieve attribute 'objVal'\n",
      "27\n",
      "Unable to retrieve attribute 'objVal'\n",
      "Unable to retrieve attribute 'objVal'\n",
      "28\n",
      "Unable to retrieve attribute 'objVal'\n",
      "Unable to retrieve attribute 'objVal'\n",
      "29\n",
      "Unable to retrieve attribute 'objVal'\n",
      "30\n",
      "Unable to retrieve attribute 'objVal'\n",
      "31\n",
      "Unable to retrieve attribute 'objVal'\n",
      "Unable to retrieve attribute 'objVal'\n",
      "32\n",
      "Unable to retrieve attribute 'objVal'\n",
      "Unable to retrieve attribute 'objVal'\n",
      "33\n",
      "Unable to retrieve attribute 'objVal'\n",
      "Unable to retrieve attribute 'objVal'\n",
      "34\n",
      "Unable to retrieve attribute 'objVal'\n",
      "Unable to retrieve attribute 'objVal'\n",
      "35\n",
      "Unable to retrieve attribute 'objVal'\n",
      "Unable to retrieve attribute 'objVal'\n",
      "36\n",
      "Unable to retrieve attribute 'objVal'\n",
      "Unable to retrieve attribute 'objVal'\n",
      "37\n",
      "Unable to retrieve attribute 'objVal'\n",
      "Unable to retrieve attribute 'objVal'\n",
      "38\n",
      "Unable to retrieve attribute 'objVal'\n",
      "39\n",
      "Unable to retrieve attribute 'objVal'\n",
      "40\n",
      "Unable to retrieve attribute 'objVal'\n",
      "41\n",
      "Unable to retrieve attribute 'objVal'\n",
      "42\n",
      "Unable to retrieve attribute 'objVal'\n",
      "43\n",
      "44\n",
      "Unable to retrieve attribute 'objVal'\n",
      "45\n",
      "Unable to retrieve attribute 'objVal'\n",
      "46\n",
      "Unable to retrieve attribute 'objVal'\n",
      "47\n",
      "Unable to retrieve attribute 'objVal'\n",
      "48\n",
      "Unable to retrieve attribute 'objVal'\n",
      "Unable to retrieve attribute 'objVal'\n",
      "49\n",
      "Unable to retrieve attribute 'objVal'\n",
      "Unable to retrieve attribute 'objVal'\n",
      "50\n",
      "Unable to retrieve attribute 'objVal'\n",
      "Unable to retrieve attribute 'objVal'\n",
      "51\n",
      "Unable to retrieve attribute 'objVal'\n",
      "Unable to retrieve attribute 'objVal'\n",
      "52\n",
      "Unable to retrieve attribute 'objVal'\n",
      "Unable to retrieve attribute 'objVal'\n",
      "53\n",
      "Unable to retrieve attribute 'objVal'\n",
      "Unable to retrieve attribute 'objVal'\n",
      "54\n",
      "Unable to retrieve attribute 'objVal'\n",
      "Unable to retrieve attribute 'objVal'\n",
      "55\n",
      "Unable to retrieve attribute 'objVal'\n",
      "Unable to retrieve attribute 'objVal'\n",
      "56\n",
      "Unable to retrieve attribute 'objVal'\n",
      "Unable to retrieve attribute 'objVal'\n",
      "57\n",
      "Unable to retrieve attribute 'objVal'\n",
      "Unable to retrieve attribute 'objVal'\n",
      "Unable to retrieve attribute 'objVal'\n",
      "58\n",
      "Unable to retrieve attribute 'objVal'\n",
      "59\n",
      "60\n",
      "Unable to retrieve attribute 'objVal'\n",
      "61\n",
      "Unable to retrieve attribute 'objVal'\n",
      "62\n",
      "Unable to retrieve attribute 'objVal'\n",
      "63\n",
      "Unable to retrieve attribute 'objVal'\n",
      "64\n",
      "Unable to retrieve attribute 'objVal'\n",
      "65\n",
      "Unable to retrieve attribute 'objVal'\n",
      "Unable to retrieve attribute 'objVal'\n",
      "66\n",
      "Unable to retrieve attribute 'objVal'\n",
      "Unable to retrieve attribute 'objVal'\n",
      "67\n",
      "Unable to retrieve attribute 'objVal'\n",
      "Unable to retrieve attribute 'objVal'\n",
      "68\n",
      "Unable to retrieve attribute 'objVal'\n",
      "Unable to retrieve attribute 'objVal'\n",
      "Unable to retrieve attribute 'objVal'\n",
      "69\n",
      "Unable to retrieve attribute 'objVal'\n",
      "Unable to retrieve attribute 'objVal'\n",
      "Unable to retrieve attribute 'objVal'\n",
      "70\n",
      "Unable to retrieve attribute 'objVal'\n",
      "Unable to retrieve attribute 'objVal'\n",
      "Unable to retrieve attribute 'objVal'\n",
      "71\n",
      "Unable to retrieve attribute 'objVal'\n",
      "Unable to retrieve attribute 'objVal'\n",
      "Unable to retrieve attribute 'objVal'\n",
      "72\n",
      "Unable to retrieve attribute 'objVal'\n",
      "Unable to retrieve attribute 'objVal'\n",
      "Unable to retrieve attribute 'objVal'\n",
      "73\n",
      "Unable to retrieve attribute 'objVal'\n",
      "Unable to retrieve attribute 'objVal'\n",
      "74\n",
      "Unable to retrieve attribute 'objVal'\n",
      "Unable to retrieve attribute 'objVal'\n",
      "75\n",
      "Unable to retrieve attribute 'objVal'\n",
      "Unable to retrieve attribute 'objVal'\n",
      "76\n",
      "Unable to retrieve attribute 'objVal'\n",
      "Unable to retrieve attribute 'objVal'\n",
      "77\n",
      "Unable to retrieve attribute 'objVal'\n",
      "Unable to retrieve attribute 'objVal'\n",
      "78\n",
      "Unable to retrieve attribute 'objVal'\n",
      "Unable to retrieve attribute 'objVal'\n",
      "79\n",
      "Unable to retrieve attribute 'objVal'\n",
      "Unable to retrieve attribute 'objVal'\n",
      "Unable to retrieve attribute 'objVal'\n",
      "80\n",
      "Unable to retrieve attribute 'objVal'\n",
      "81\n",
      "Unable to retrieve attribute 'objVal'\n",
      "Unable to retrieve attribute 'objVal'\n",
      "82\n",
      "Unable to retrieve attribute 'objVal'\n",
      "Unable to retrieve attribute 'objVal'\n",
      "Unable to retrieve attribute 'objVal'\n",
      "83\n",
      "Unable to retrieve attribute 'objVal'\n",
      "Unable to retrieve attribute 'objVal'\n",
      "Unable to retrieve attribute 'objVal'\n",
      "84\n",
      "Unable to retrieve attribute 'objVal'\n",
      "Unable to retrieve attribute 'objVal'\n",
      "Unable to retrieve attribute 'objVal'\n",
      "85\n",
      "Unable to retrieve attribute 'objVal'\n",
      "Unable to retrieve attribute 'objVal'\n",
      "Unable to retrieve attribute 'objVal'\n",
      "86\n",
      "Unable to retrieve attribute 'objVal'\n",
      "Unable to retrieve attribute 'objVal'\n",
      "Unable to retrieve attribute 'objVal'\n",
      "87\n",
      "Unable to retrieve attribute 'objVal'\n",
      "Unable to retrieve attribute 'objVal'\n",
      "Unable to retrieve attribute 'objVal'\n",
      "88\n",
      "Unable to retrieve attribute 'objVal'\n",
      "Unable to retrieve attribute 'objVal'\n",
      "Unable to retrieve attribute 'objVal'\n",
      "89\n",
      "Unable to retrieve attribute 'objVal'\n",
      "Unable to retrieve attribute 'objVal'\n",
      "90\n",
      "Unable to retrieve attribute 'objVal'\n",
      "Unable to retrieve attribute 'objVal'\n",
      "91\n",
      "Unable to retrieve attribute 'objVal'\n",
      "Unable to retrieve attribute 'objVal'\n",
      "92\n",
      "Unable to retrieve attribute 'objVal'\n",
      "93\n",
      "Unable to retrieve attribute 'objVal'\n",
      "Unable to retrieve attribute 'objVal'\n",
      "94\n",
      "Unable to retrieve attribute 'objVal'\n",
      "Unable to retrieve attribute 'objVal'\n",
      "95\n",
      "Unable to retrieve attribute 'objVal'\n",
      "96\n",
      "Unable to retrieve attribute 'objVal'\n",
      "97\n",
      "98\n",
      "Unable to retrieve attribute 'objVal'\n",
      "99\n",
      "Unable to retrieve attribute 'objVal'\n",
      "100\n",
      "Unable to retrieve attribute 'objVal'\n",
      "101\n",
      "Unable to retrieve attribute 'objVal'\n",
      "102\n",
      "103\n",
      "Unable to retrieve attribute 'objVal'\n",
      "104\n",
      "105\n",
      "Unable to retrieve attribute 'objVal'\n",
      "106\n",
      "Unable to retrieve attribute 'objVal'\n",
      "107\n",
      "Unable to retrieve attribute 'objVal'\n",
      "108\n",
      "Unable to retrieve attribute 'objVal'\n",
      "109\n",
      "Unable to retrieve attribute 'objVal'\n",
      "Unable to retrieve attribute 'objVal'\n",
      "110\n",
      "Unable to retrieve attribute 'objVal'\n",
      "Unable to retrieve attribute 'objVal'\n",
      "111\n",
      "Unable to retrieve attribute 'objVal'\n",
      "112\n",
      "Unable to retrieve attribute 'objVal'\n",
      "113\n",
      "Unable to retrieve attribute 'objVal'\n",
      "Unable to retrieve attribute 'objVal'\n",
      "114\n",
      "Unable to retrieve attribute 'objVal'\n",
      "Unable to retrieve attribute 'objVal'\n",
      "115\n",
      "Unable to retrieve attribute 'objVal'\n",
      "116\n",
      "Unable to retrieve attribute 'objVal'\n",
      "117\n",
      "Unable to retrieve attribute 'objVal'\n",
      "118\n",
      "Unable to retrieve attribute 'objVal'\n",
      "119\n",
      "Unable to retrieve attribute 'objVal'\n",
      "120\n",
      "Unable to retrieve attribute 'objVal'\n",
      "121\n",
      "Unable to retrieve attribute 'objVal'\n",
      "122\n",
      "Unable to retrieve attribute 'objVal'\n",
      "123\n",
      "Unable to retrieve attribute 'objVal'\n",
      "Unable to retrieve attribute 'objVal'\n",
      "124\n",
      "Unable to retrieve attribute 'objVal'\n",
      "125\n",
      "Unable to retrieve attribute 'objVal'\n",
      "126\n",
      "Unable to retrieve attribute 'objVal'\n",
      "127\n",
      "Unable to retrieve attribute 'objVal'\n",
      "128\n",
      "Unable to retrieve attribute 'objVal'\n",
      "129\n",
      "Unable to retrieve attribute 'objVal'\n",
      "130\n",
      "Unable to retrieve attribute 'objVal'\n",
      "131\n",
      "Unable to retrieve attribute 'objVal'\n",
      "132\n",
      "Unable to retrieve attribute 'objVal'\n",
      "Unable to retrieve attribute 'objVal'\n",
      "133\n",
      "Unable to retrieve attribute 'objVal'\n",
      "Unable to retrieve attribute 'objVal'\n",
      "134\n",
      "Unable to retrieve attribute 'objVal'\n",
      "135\n",
      "Unable to retrieve attribute 'objVal'\n",
      "136\n",
      "Unable to retrieve attribute 'objVal'\n",
      "137\n",
      "Unable to retrieve attribute 'objVal'\n",
      "138\n",
      "Unable to retrieve attribute 'objVal'\n",
      "139\n",
      "140\n",
      "Unable to retrieve attribute 'objVal'\n",
      "141\n",
      "142\n",
      "Unable to retrieve attribute 'objVal'\n",
      "Unable to retrieve attribute 'objVal'\n",
      "143\n",
      "144\n",
      "Unable to retrieve attribute 'objVal'\n",
      "145\n",
      "146\n",
      "147\n"
     ]
    }
   ],
   "source": [
    "# RSDR CVaR (HMM)\n",
    "cv_type = 1\n",
    "method_name = 'RSDR ' + mean_sign + 'CVaR ' + method_choice[choice_index]\n",
    "mean_fcvar_mkt = FCVaR_HMM_wasserstein(df_select, df_train, rolling_day, portfolio_number, df_factor, cluster_num, method_name, mkt_state, hmm_type, cv_type, mean_constr)\n",
    "mean_fcvar_mkt.rolling()"
   ]
  },
  {
   "cell_type": "code",
   "execution_count": 23,
   "metadata": {
    "vscode": {
     "languageId": "python"
    }
   },
   "outputs": [
    {
     "name": "stdout",
     "output_type": "stream",
     "text": [
      "For the model with strategy name  RSDR Mean-CVaR (HMM)\n",
      "The Monthly Sharpe Ratio =  0.13627582466731109\n",
      "CEQ =  0.0034332550342641138\n",
      "Drawdown =  -0.3251899604822308\n",
      "Turnover =  0.24899216262419097\n",
      "=================================\n"
     ]
    }
   ],
   "source": [
    "#return statistics computation for our policy\n",
    "Output_csv.return_info(mean_fcvar_mkt, rfr_data)"
   ]
  },
  {
   "cell_type": "code",
   "execution_count": null,
   "metadata": {
    "vscode": {
     "languageId": "python"
    }
   },
   "outputs": [],
   "source": []
  }
 ],
 "metadata": {
  "kernelspec": {
   "display_name": "Python 3",
   "language": "python",
   "name": "python3"
  }
 },
 "nbformat": 4,
 "nbformat_minor": 2
}
