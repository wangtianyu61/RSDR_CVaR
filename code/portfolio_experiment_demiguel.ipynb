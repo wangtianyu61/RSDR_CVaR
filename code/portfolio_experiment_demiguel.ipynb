{
 "cells": [
  {
   "cell_type": "markdown",
   "metadata": {},
   "source": [
    "# Experiment Test with DeMiguel's Paper\n",
    "Most Setup follows the same as before.\n"
   ]
  },
  {
   "cell_type": "code",
   "execution_count": 1,
   "metadata": {},
   "outputs": [],
   "source": [
    "from main_head import *"
   ]
  },
  {
   "cell_type": "markdown",
   "metadata": {},
   "source": [
    "## Overall Parametric Setup\n",
    "The overall parameter choice is set in the ``CVaR_parameter.py``. Below are some of parameters selected in our experiment."
   ]
  },
  {
   "cell_type": "markdown",
   "metadata": {},
   "source": [
    "## Dataset Selection Part"
   ]
  },
  {
   "cell_type": "code",
   "execution_count": 2,
   "metadata": {},
   "outputs": [],
   "source": [
    "#Data Set Choice Generator\n",
    "def DTA_select(data_type):\n",
    "    if data_type[-1] == '2':\n",
    "        return [19970101, 201904, 20061231]\n",
    "    else:\n",
    "        if data_type in ['FF', 'IndustryPortfolios', 'MKT']:\n",
    "            return [19630701, 200412, 19730631]\n",
    "        elif data_type == 'S&P_sectors':\n",
    "            return [19810101, 200212, 19901231]\n",
    "        else:\n",
    "            return [19700101, 200108, 19791231]\n",
    "        \n",
    "    \n",
    "    return [start_time, end_time, train_test_split]"
   ]
  },
  {
   "cell_type": "code",
   "execution_count": 3,
   "metadata": {},
   "outputs": [],
   "source": [
    "freq = \"Monthly\"\n",
    "#Here as we all use the Monthly Data Set, we can fix that parameter\n",
    "value = \"\"\n",
    "#eq/not eq csv in the . Here we all use the original dataset class.\n",
    "\n",
    "#dta type\n",
    "## In DeMiguel's paper, the dta type are selected to be one in ['MKT', 'Country', 'S&P_sectors', 'IndustryPortfolios', 'FF']\n",
    "## When his dataset extended to 2019 Q1, the dta type are selected to be one in ['MKT2', 'Country2', 'S&P_sectors2', 'IndustryPortfolios2', 'FF22']\n",
    "## Their corresponding portfolio number is 3 (MKT), 9 (Country), 11 (S&P_sectors), 11 (IndustryPortfolios), 21 /24 for FF.\n",
    "## And in our case study, dta type are selected to be 'IndustryIndices' (16)\n",
    "data_type = \"Country\"\n",
    "portfolio_number = 9\n",
    "\n",
    "#select part of the data in the .csv file.\n",
    "## from start_time to train_test_split as the default train dataset; from train_test_split (not include) as the test dataset.\n",
    "[start_time, end_time, train_test_split] = DTA_select(data_type)"
   ]
  },
  {
   "cell_type": "markdown",
   "metadata": {},
   "source": [
    "## Load the Data\n",
    "we load the return data and its corresponding factor data below using the class from ``data_process/input.py``."
   ]
  },
  {
   "cell_type": "code",
   "execution_count": 5,
   "metadata": {},
   "outputs": [],
   "source": [
    "cv_type = 1\n",
    "# default setup in CVaR_parameter.py to accept cross validation (with other parameters in CVaR_parameter.py)\n",
    "# can check other values cv types for the other uses\n",
    "#data input\n",
    "Input_csv = Input(portfolio_number, freq, value, start_time, end_time, train_test_split, data_type)\n",
    "[data_head, data_parameter, csv_name] = Input_csv.parameter_output()\n",
    "[df_select, df_train] = Input_csv.data_load()\n",
    "\n",
    "df_factor = Input_csv.three_factor_load()\n",
    "#we do not include the risk free rate item into the computation of sharpe ratio\n",
    "if sharpe_ratio_open == False:\n",
    "    rfr_data = 0\n",
    "else:\n",
    "    rfr_data = Input_csv.risk_free_rate()"
   ]
  },
  {
   "cell_type": "code",
   "execution_count": 6,
   "metadata": {},
   "outputs": [
    {
     "data": {
      "text/plain": [
       "200108"
      ]
     },
     "execution_count": 6,
     "metadata": {},
     "output_type": "execute_result"
    }
   ],
   "source": [
    "end_time"
   ]
  },
  {
   "cell_type": "markdown",
   "metadata": {},
   "source": [
    "# Our Proposed Model"
   ]
  },
  {
   "cell_type": "markdown",
   "metadata": {},
   "source": [
    "### Pretrained for determining the Markovian States\n",
    "We use the MATLAB hmmtrain function for training the HMM model. Here we only incorporate the HMM model for simplicity of interpretation.\n",
    "\n",
    "HMM results are saved in ``factor model/HMM_state.csv``.\n",
    "\n",
    "We would first load the HMM results within the right train test time."
   ]
  },
  {
   "cell_type": "code",
   "execution_count": 9,
   "metadata": {},
   "outputs": [],
   "source": [
    "cluster_num = 4\n",
    "df_state = pd.read_csv(\"../factor model/HMM_state.csv\")\n",
    "str_state = [str(each_state) for each_state in list(df_state['Date'])]\n",
    "df_state['Date'] = str_state\n",
    "df_state_hmm = df_state[((df_state['Date'])>=str(start_time))&(df_state['Date']<str(end_time))]['state']\n",
    "##hmm_type == -1 represents we use the pretrained result for our classification.\n",
    "hmm_type = -1"
   ]
  },
  {
   "cell_type": "code",
   "execution_count": 10,
   "metadata": {},
   "outputs": [
    {
     "data": {
      "text/plain": [
       "1"
      ]
     },
     "execution_count": 10,
     "metadata": {},
     "output_type": "execute_result"
    }
   ],
   "source": [
    "cv_type"
   ]
  },
  {
   "cell_type": "markdown",
   "metadata": {},
   "source": [
    "#### Our HMM Model: RSDR CVaR (HMM) \n",
    "Note that the expressions for the model are explicitly written in the paper.We follow the rolling window method as shown in another notebook and paper."
   ]
  },
  {
   "cell_type": "code",
   "execution_count": 11,
   "metadata": {},
   "outputs": [
    {
     "name": "stdout",
     "output_type": "stream",
     "text": [
      "0\n",
      "Using license file D:\\ProgramFiles\\gurobi903\\gurobi.lic\n"
     ]
    },
    {
     "ename": "GurobiError",
     "evalue": "License expired 2023-06-24",
     "output_type": "error",
     "traceback": [
      "\u001b[1;31m---------------------------------------------------------------------------\u001b[0m",
      "\u001b[1;31mGurobiError\u001b[0m                               Traceback (most recent call last)",
      "\u001b[1;32m<ipython-input-11-ef12ab0ec9c4>\u001b[0m in \u001b[0;36m<module>\u001b[1;34m\u001b[0m\n\u001b[0;32m      3\u001b[0m \u001b[0mmean_constr\u001b[0m \u001b[1;33m=\u001b[0m \u001b[1;32mFalse\u001b[0m\u001b[1;33m\u001b[0m\u001b[1;33m\u001b[0m\u001b[0m\n\u001b[0;32m      4\u001b[0m \u001b[0mfcvar_hmm_star\u001b[0m \u001b[1;33m=\u001b[0m \u001b[0mFCVaR_HMM_wasserstein\u001b[0m\u001b[1;33m(\u001b[0m\u001b[0mdf_select\u001b[0m\u001b[1;33m,\u001b[0m \u001b[0mdf_train\u001b[0m\u001b[1;33m,\u001b[0m \u001b[0mrolling_day\u001b[0m\u001b[1;33m,\u001b[0m \u001b[0mportfolio_number\u001b[0m\u001b[1;33m,\u001b[0m \u001b[0mdf_factor\u001b[0m\u001b[1;33m,\u001b[0m \u001b[0mcluster_num\u001b[0m\u001b[1;33m,\u001b[0m \u001b[0mmethod_name\u001b[0m\u001b[1;33m,\u001b[0m \u001b[0mdf_state_hmm\u001b[0m\u001b[1;33m,\u001b[0m \u001b[0mhmm_type\u001b[0m\u001b[1;33m,\u001b[0m \u001b[0mcv_type\u001b[0m\u001b[1;33m,\u001b[0m \u001b[0mmean_constr\u001b[0m\u001b[1;33m,\u001b[0m \u001b[0mambiguity_param\u001b[0m\u001b[1;33m)\u001b[0m\u001b[1;33m\u001b[0m\u001b[1;33m\u001b[0m\u001b[0m\n\u001b[1;32m----> 5\u001b[1;33m \u001b[0mfcvar_hmm_star\u001b[0m\u001b[1;33m.\u001b[0m\u001b[0mrolling\u001b[0m\u001b[1;33m(\u001b[0m\u001b[1;33m)\u001b[0m\u001b[1;33m\u001b[0m\u001b[1;33m\u001b[0m\u001b[0m\n\u001b[0m",
      "\u001b[1;32m~\\Personal\\Research\\RobustStochasticPortfolioOptimization\\numericalexperiment\\code\\method\\FCVaR_HMM_wasserstein.py\u001b[0m in \u001b[0;36mrolling\u001b[1;34m(self, cost_norm)\u001b[0m\n\u001b[0;32m    623\u001b[0m                 \u001b[1;32melse\u001b[0m\u001b[1;33m:\u001b[0m\u001b[1;33m\u001b[0m\u001b[1;33m\u001b[0m\u001b[0m\n\u001b[0;32m    624\u001b[0m                     \u001b[0mself\u001b[0m\u001b[1;33m.\u001b[0m\u001b[0mtheta_list\u001b[0m \u001b[1;33m=\u001b[0m \u001b[1;33m[\u001b[0m\u001b[0mparam\u001b[0m\u001b[1;33m/\u001b[0m\u001b[0mdta_param\u001b[0m \u001b[1;32mfor\u001b[0m \u001b[0mparam\u001b[0m \u001b[1;32min\u001b[0m \u001b[0mself\u001b[0m\u001b[1;33m.\u001b[0m\u001b[0mtheta_param\u001b[0m\u001b[1;33m]\u001b[0m\u001b[1;33m\u001b[0m\u001b[1;33m\u001b[0m\u001b[0m\n\u001b[1;32m--> 625\u001b[1;33m                     \u001b[0mself\u001b[0m\u001b[1;33m.\u001b[0m\u001b[0mcross_validation2\u001b[0m\u001b[1;33m(\u001b[0m\u001b[0mtrain_return\u001b[0m\u001b[1;33m,\u001b[0m \u001b[0mtrain_state\u001b[0m\u001b[1;33m,\u001b[0m \u001b[0mfold_number\u001b[0m\u001b[1;33m)\u001b[0m\u001b[1;33m\u001b[0m\u001b[1;33m\u001b[0m\u001b[0m\n\u001b[0m\u001b[0;32m    626\u001b[0m                     \u001b[1;31m#print(self.theta)\u001b[0m\u001b[1;33m\u001b[0m\u001b[1;33m\u001b[0m\u001b[1;33m\u001b[0m\u001b[0m\n\u001b[0;32m    627\u001b[0m             \u001b[1;32melse\u001b[0m\u001b[1;33m:\u001b[0m\u001b[1;33m\u001b[0m\u001b[1;33m\u001b[0m\u001b[0m\n",
      "\u001b[1;32m~\\Personal\\Research\\RobustStochasticPortfolioOptimization\\numericalexperiment\\code\\method\\FCVaR_HMM_wasserstein.py\u001b[0m in \u001b[0;36mcross_validation2\u001b[1;34m(self, train_return, train_state, fold_num)\u001b[0m\n\u001b[0;32m    434\u001b[0m                 \u001b[1;32mif\u001b[0m \u001b[0mself\u001b[0m\u001b[1;33m.\u001b[0m\u001b[0mmean_constr\u001b[0m \u001b[1;33m==\u001b[0m \u001b[1;32mFalse\u001b[0m\u001b[1;33m:\u001b[0m\u001b[1;33m\u001b[0m\u001b[1;33m\u001b[0m\u001b[0m\n\u001b[0;32m    435\u001b[0m \u001b[1;33m\u001b[0m\u001b[0m\n\u001b[1;32m--> 436\u001b[1;33m                     \u001b[1;33m[\u001b[0m\u001b[0mreturn_array\u001b[0m\u001b[1;33m,\u001b[0m \u001b[0mflag\u001b[0m\u001b[1;33m]\u001b[0m \u001b[1;33m=\u001b[0m \u001b[0mself\u001b[0m\u001b[1;33m.\u001b[0m\u001b[0mcross_validation2_test\u001b[0m\u001b[1;33m(\u001b[0m\u001b[0mhmm_cv_info\u001b[0m\u001b[1;33m,\u001b[0m \u001b[0mtrain_validation\u001b[0m\u001b[1;33m)\u001b[0m\u001b[1;33m\u001b[0m\u001b[1;33m\u001b[0m\u001b[0m\n\u001b[0m\u001b[0;32m    437\u001b[0m                     temp_SR.append({\"Sharpe Ratio\":np.mean(return_array)/np.std(return_array),\n\u001b[0;32m    438\u001b[0m                                     \u001b[1;34m\"theta\"\u001b[0m\u001b[1;33m:\u001b[0m \u001b[0mself\u001b[0m\u001b[1;33m.\u001b[0m\u001b[0mtheta\u001b[0m\u001b[1;33m,\u001b[0m\u001b[1;33m\u001b[0m\u001b[1;33m\u001b[0m\u001b[0m\n",
      "\u001b[1;32m~\\Personal\\Research\\RobustStochasticPortfolioOptimization\\numericalexperiment\\code\\method\\FCVaR_HMM_wasserstein.py\u001b[0m in \u001b[0;36mcross_validation2_test\u001b[1;34m(self, hmm_cv_info, train_validation)\u001b[0m\n\u001b[0;32m    387\u001b[0m                 \u001b[1;31m#[weight, return_array[k:(k + cluster_vali_num)], flag]\u001b[0m\u001b[1;33m\u001b[0m\u001b[1;33m\u001b[0m\u001b[1;33m\u001b[0m\u001b[0m\n\u001b[0;32m    388\u001b[0m \u001b[1;33m\u001b[0m\u001b[0m\n\u001b[1;32m--> 389\u001b[1;33m                 \u001b[1;33m[\u001b[0m\u001b[0mweight\u001b[0m\u001b[1;33m,\u001b[0m \u001b[0mreturn_array\u001b[0m\u001b[1;33m[\u001b[0m\u001b[0mk\u001b[0m\u001b[1;33m:\u001b[0m\u001b[1;33m(\u001b[0m\u001b[0mk\u001b[0m \u001b[1;33m+\u001b[0m \u001b[0mcluster_vali_num\u001b[0m\u001b[1;33m)\u001b[0m\u001b[1;33m]\u001b[0m\u001b[1;33m,\u001b[0m \u001b[0mflag\u001b[0m\u001b[1;33m]\u001b[0m\u001b[1;33m=\u001b[0m \u001b[0mself\u001b[0m\u001b[1;33m.\u001b[0m\u001b[0moptimize_test\u001b[0m\u001b[1;33m(\u001b[0m\u001b[0mcluster_freq\u001b[0m\u001b[1;33m,\u001b[0m \u001b[0mnum_time_in_cluster\u001b[0m\u001b[1;33m,\u001b[0m \u001b[0mtrain_return_cv\u001b[0m\u001b[1;33m,\u001b[0m \u001b[0mtrain_validation\u001b[0m\u001b[1;33m,\u001b[0m \u001b[0mweight\u001b[0m\u001b[1;33m)\u001b[0m\u001b[1;33m\u001b[0m\u001b[1;33m\u001b[0m\u001b[0m\n\u001b[0m\u001b[0;32m    390\u001b[0m \u001b[1;33m\u001b[0m\u001b[0m\n\u001b[0;32m    391\u001b[0m                 \u001b[1;32mif\u001b[0m \u001b[0mflag\u001b[0m \u001b[1;33m==\u001b[0m \u001b[1;36m1\u001b[0m\u001b[1;33m:\u001b[0m\u001b[1;33m\u001b[0m\u001b[1;33m\u001b[0m\u001b[0m\n",
      "\u001b[1;32m~\\Personal\\Research\\RobustStochasticPortfolioOptimization\\numericalexperiment\\code\\method\\FCVaR_HMM_wasserstein.py\u001b[0m in \u001b[0;36moptimize_test\u001b[1;34m(self, cluster_freq, num_time_in_cluster, train_return, test_return, weight_pre)\u001b[0m\n\u001b[0;32m     48\u001b[0m         \u001b[1;32mfor\u001b[0m \u001b[0mi\u001b[0m \u001b[1;32min\u001b[0m \u001b[0mrange\u001b[0m\u001b[1;33m(\u001b[0m\u001b[0mself\u001b[0m\u001b[1;33m.\u001b[0m\u001b[0mcluster_number\u001b[0m\u001b[1;33m)\u001b[0m\u001b[1;33m:\u001b[0m\u001b[1;33m\u001b[0m\u001b[1;33m\u001b[0m\u001b[0m\n\u001b[0;32m     49\u001b[0m             \u001b[0mtrain_return_array\u001b[0m \u001b[1;33m=\u001b[0m \u001b[0mnp\u001b[0m\u001b[1;33m.\u001b[0m\u001b[0marray\u001b[0m\u001b[1;33m(\u001b[0m\u001b[0mtrain_return\u001b[0m\u001b[1;33m[\u001b[0m\u001b[0mi\u001b[0m\u001b[1;33m]\u001b[0m\u001b[1;33m)\u001b[0m\u001b[1;33m\u001b[0m\u001b[1;33m\u001b[0m\u001b[0m\n\u001b[1;32m---> 50\u001b[1;33m         \u001b[0mm\u001b[0m \u001b[1;33m=\u001b[0m \u001b[0mModel\u001b[0m\u001b[1;33m(\u001b[0m\u001b[1;34m'HMM_2021'\u001b[0m\u001b[1;33m)\u001b[0m\u001b[1;33m\u001b[0m\u001b[1;33m\u001b[0m\u001b[0m\n\u001b[0m\u001b[0;32m     51\u001b[0m         \u001b[0mv\u001b[0m \u001b[1;33m=\u001b[0m \u001b[0mm\u001b[0m\u001b[1;33m.\u001b[0m\u001b[0maddVar\u001b[0m\u001b[1;33m(\u001b[0m\u001b[0mname\u001b[0m \u001b[1;33m=\u001b[0m \u001b[1;34m'v'\u001b[0m\u001b[1;33m,\u001b[0m \u001b[0mlb\u001b[0m \u001b[1;33m=\u001b[0m \u001b[1;33m-\u001b[0m\u001b[0mGRB\u001b[0m\u001b[1;33m.\u001b[0m\u001b[0mINFINITY\u001b[0m\u001b[1;33m)\u001b[0m\u001b[1;33m\u001b[0m\u001b[1;33m\u001b[0m\u001b[0m\n\u001b[0;32m     52\u001b[0m         \u001b[1;32mif\u001b[0m \u001b[0mshortsale_sign\u001b[0m \u001b[1;33m==\u001b[0m \u001b[1;36m0\u001b[0m\u001b[1;33m:\u001b[0m\u001b[1;33m\u001b[0m\u001b[1;33m\u001b[0m\u001b[0m\n",
      "\u001b[1;32menv.pxi\u001b[0m in \u001b[0;36mgurobipy.Env.__init__\u001b[1;34m()\u001b[0m\n",
      "\u001b[1;32mgurobi.pxi\u001b[0m in \u001b[0;36mgurobipy.gurobi._getdefaultenv\u001b[1;34m()\u001b[0m\n",
      "\u001b[1;32menv.pxi\u001b[0m in \u001b[0;36mgurobipy.Env.__init__\u001b[1;34m()\u001b[0m\n",
      "\u001b[1;31mGurobiError\u001b[0m: License expired 2023-06-24"
     ]
    }
   ],
   "source": [
    "# RSDR CVaR (HMM)\n",
    "method_name = \"RSDR CVaR (HMM)\"\n",
    "mean_constr = False\n",
    "fcvar_hmm_star = FCVaR_HMM_wasserstein(df_select, df_train, rolling_day, portfolio_number, df_factor, cluster_num, method_name, df_state_hmm, hmm_type, cv_type, mean_constr, ambiguity_param)\n",
    "fcvar_hmm_star.rolling()"
   ]
  },
  {
   "cell_type": "code",
   "execution_count": 15,
   "metadata": {},
   "outputs": [],
   "source": [
    "csv_name = f'../output/{portfolio_number}Monthly_{data_type}.csv'"
   ]
  },
  {
   "cell_type": "markdown",
   "metadata": {},
   "source": [
    "The description of output overflow and performance metrics can be seen from ``portfolio_experiment_final_version.ipynb``."
   ]
  },
  {
   "cell_type": "code",
   "execution_count": 16,
   "metadata": {},
   "outputs": [
    {
     "name": "stdout",
     "output_type": "stream",
     "text": [
      "done\n"
     ]
    }
   ],
   "source": [
    "#initiation for the test metric module\n",
    "#print the output into a separate csv file, separated by the dataset type + header\n",
    "Output_csv = output(csv_name, data_head, data_parameter)\n",
    "Output_csv.head()\n",
    "#return statistics computation for our policy\n",
    "# Output_csv.return_info(fcvar_hmm_star, rfr_data)"
   ]
  },
  {
   "cell_type": "markdown",
   "metadata": {},
   "source": [
    "## Regime Switching Portfolio\n",
    "we set $\\theta = 0$ and CV Type = -1.\n"
   ]
  },
  {
   "cell_type": "code",
   "execution_count": 172,
   "metadata": {},
   "outputs": [
    {
     "name": "stdout",
     "output_type": "stream",
     "text": [
      "0\n",
      "1\n",
      "2\n",
      "3\n",
      "4\n",
      "5\n",
      "6\n",
      "7\n",
      "8\n",
      "9\n",
      "10\n",
      "11\n",
      "12\n",
      "13\n",
      "14\n",
      "15\n",
      "16\n",
      "17\n",
      "18\n",
      "19\n",
      "20\n",
      "21\n",
      "22\n",
      "23\n",
      "24\n",
      "25\n",
      "26\n",
      "27\n",
      "28\n",
      "29\n",
      "30\n",
      "31\n",
      "32\n",
      "33\n",
      "34\n",
      "35\n",
      "36\n",
      "37\n",
      "38\n",
      "39\n",
      "40\n",
      "41\n",
      "42\n",
      "43\n",
      "44\n",
      "45\n",
      "46\n",
      "47\n",
      "48\n",
      "49\n",
      "50\n",
      "51\n",
      "52\n",
      "53\n",
      "54\n",
      "55\n",
      "56\n",
      "57\n",
      "58\n",
      "59\n",
      "60\n",
      "61\n",
      "62\n",
      "63\n",
      "64\n",
      "65\n",
      "66\n",
      "67\n",
      "68\n",
      "69\n",
      "70\n",
      "71\n",
      "72\n",
      "73\n",
      "74\n",
      "75\n",
      "76\n",
      "77\n",
      "78\n",
      "79\n",
      "80\n",
      "81\n",
      "82\n",
      "83\n",
      "84\n",
      "85\n",
      "86\n",
      "87\n",
      "88\n",
      "89\n",
      "90\n",
      "91\n",
      "92\n",
      "93\n",
      "94\n",
      "95\n",
      "96\n",
      "97\n",
      "98\n",
      "99\n",
      "100\n",
      "101\n",
      "102\n",
      "103\n",
      "104\n",
      "105\n",
      "106\n",
      "107\n",
      "108\n",
      "109\n",
      "110\n",
      "111\n",
      "112\n",
      "113\n",
      "114\n",
      "115\n",
      "116\n",
      "117\n",
      "118\n",
      "119\n",
      "120\n",
      "121\n",
      "122\n",
      "123\n",
      "124\n",
      "125\n",
      "126\n",
      "127\n",
      "128\n",
      "129\n",
      "130\n",
      "131\n",
      "132\n",
      "133\n",
      "134\n",
      "135\n",
      "136\n",
      "137\n",
      "138\n",
      "139\n",
      "140\n",
      "141\n",
      "142\n",
      "143\n",
      "144\n",
      "145\n",
      "146\n",
      "147\n",
      "148\n",
      "149\n",
      "150\n",
      "151\n",
      "152\n",
      "153\n",
      "154\n",
      "155\n",
      "156\n",
      "157\n",
      "158\n",
      "159\n",
      "160\n",
      "161\n",
      "162\n",
      "163\n",
      "164\n",
      "165\n",
      "166\n",
      "167\n",
      "168\n",
      "169\n",
      "170\n",
      "171\n",
      "172\n",
      "173\n",
      "174\n",
      "175\n",
      "176\n",
      "177\n",
      "178\n",
      "179\n",
      "180\n",
      "181\n",
      "182\n",
      "183\n",
      "184\n",
      "185\n",
      "186\n",
      "187\n",
      "188\n",
      "189\n",
      "190\n",
      "191\n",
      "192\n",
      "193\n",
      "194\n",
      "195\n",
      "196\n",
      "197\n",
      "198\n",
      "199\n",
      "200\n",
      "201\n",
      "202\n",
      "203\n",
      "204\n",
      "205\n",
      "206\n",
      "207\n",
      "208\n",
      "209\n",
      "210\n",
      "211\n",
      "212\n",
      "213\n",
      "214\n",
      "215\n",
      "216\n",
      "217\n",
      "218\n",
      "219\n",
      "220\n",
      "221\n",
      "222\n",
      "223\n",
      "224\n",
      "225\n",
      "226\n",
      "227\n",
      "228\n",
      "229\n",
      "230\n",
      "231\n",
      "232\n",
      "233\n",
      "234\n",
      "235\n",
      "236\n",
      "237\n",
      "238\n",
      "239\n",
      "240\n",
      "241\n",
      "242\n",
      "243\n",
      "244\n",
      "245\n",
      "246\n",
      "247\n",
      "248\n",
      "249\n",
      "250\n",
      "251\n",
      "252\n",
      "253\n",
      "254\n",
      "255\n",
      "256\n",
      "257\n",
      "258\n",
      "For the model with strategy name  RS CVaR (HMM)\n",
      "The Monthly Sharpe Ratio =  0.09473027711541135\n",
      "CEQ =  0.0031898526956055887\n",
      "Drawdown =  -0.3902949404395599\n",
      "Turnover =  0.4009879259125455\n",
      "=================================\n"
     ]
    }
   ],
   "source": [
    "method_name = \"RS CVaR (HMM)\"\n",
    "mean_constr = False\n",
    "fcvar_hmm_rs = FCVaR_HMM_wasserstein(df_select, df_train, rolling_day, portfolio_number, df_factor, cluster_num, method_name, df_state_hmm, hmm_type, -1, mean_constr, ambiguity_param)\n",
    "fcvar_hmm_rs.theta = 0\n",
    "fcvar_hmm_rs.rolling()\n",
    "Output_csv.return_info(fcvar_hmm_rs, rfr_data)"
   ]
  },
  {
   "cell_type": "markdown",
   "metadata": {},
   "source": [
    "## Equally Weighted Portfolio\n",
    "This equally weighted strategy means that we consider the portfolio weight to be as follows for each of the $I$ risky assets:\n",
    "$$w_i = \\frac{1}{I},$$\n",
    "which gains popularity for its robustness in DeMiguel et al. (2009b)."
   ]
  },
  {
   "cell_type": "code",
   "execution_count": 17,
   "metadata": {},
   "outputs": [
    {
     "name": "stdout",
     "output_type": "stream",
     "text": [
      "379 120\n",
      "For the model with strategy name  EW portfolio\n",
      "The Monthly Sharpe Ratio =  0.12766718860679807\n",
      "CEQ =  0.004606591198094999\n",
      "Drawdown =  -0.3940773786489601\n",
      "Turnover =  0.03340784296101823\n",
      "=================================\n"
     ]
    },
    {
     "data": {
      "text/plain": [
       "-0.3940773786489601"
      ]
     },
     "execution_count": 17,
     "metadata": {},
     "output_type": "execute_result"
    }
   ],
   "source": [
    "# EW Portfolio\n",
    "naive = naive_strategy(df_select, df_train, rolling_day, portfolio_number, \"EW portfolio\")\n",
    "naive.rolling()\n",
    "Output_csv.return_info(naive, rfr_data)"
   ]
  },
  {
   "cell_type": "markdown",
   "metadata": {},
   "source": [
    "Change the $\\textbf{dataset selection part}$ above to get all of the portfolio results."
   ]
  },
  {
   "cell_type": "markdown",
   "metadata": {},
   "source": [
    "# DR CVaR (Wasserstein)\n"
   ]
  },
  {
   "cell_type": "code",
   "execution_count": 174,
   "metadata": {},
   "outputs": [],
   "source": [
    "#DR CVaR\n",
    "mean_constr = False\n",
    "cv_type = 1\n",
    "#mean-FCVaR model (Wasserstein)\n",
    "method_name = \"DR CVaR (Wasserstein)\"\n",
    "mean_fcvar_wasserstein = FCVaR_wasserstein2(df_select, df_train, rolling_day, portfolio_number, 1, method_name, cv_type, mean_constr)\n",
    "mean_fcvar_wasserstein.rolling()"
   ]
  },
  {
   "cell_type": "code",
   "execution_count": 175,
   "metadata": {},
   "outputs": [
    {
     "name": "stdout",
     "output_type": "stream",
     "text": [
      "For the model with strategy name  DR CVaR (Wasserstein)\n",
      "The Monthly Sharpe Ratio =  0.12152949533601597\n",
      "CEQ =  0.004333712561030371\n",
      "Drawdown =  -0.4065561119600003\n",
      "Turnover =  0.054649473109679804\n",
      "=================================\n"
     ]
    }
   ],
   "source": [
    "Output_csv.return_info(mean_fcvar_wasserstein, rfr_data)"
   ]
  },
  {
   "cell_type": "code",
   "execution_count": null,
   "metadata": {},
   "outputs": [],
   "source": []
  }
 ],
 "metadata": {
  "kernelspec": {
   "display_name": "Python 3",
   "language": "python",
   "name": "python3"
  },
  "language_info": {
   "codemirror_mode": {
    "name": "ipython",
    "version": 3
   },
   "file_extension": ".py",
   "mimetype": "text/x-python",
   "name": "python",
   "nbconvert_exporter": "python",
   "pygments_lexer": "ipython3",
   "version": "3.8.5"
  }
 },
 "nbformat": 4,
 "nbformat_minor": 2
}
