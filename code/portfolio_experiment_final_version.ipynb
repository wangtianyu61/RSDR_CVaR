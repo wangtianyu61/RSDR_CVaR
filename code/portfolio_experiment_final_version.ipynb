{
 "cells": [
  {
   "cell_type": "markdown",
   "metadata": {},
   "source": [
    "# Portfolio Experiment"
   ]
  },
  {
   "cell_type": "markdown",
   "metadata": {},
   "source": [
    "## Working Environment\n",
    "\n",
    "#### Please ensure that you have the following packages installed\n",
    "math; pandas; numpy; matplotlib; random; scipy; hmmlearn; sklearn"
   ]
  },
  {
   "cell_type": "code",
   "execution_count": 2,
   "metadata": {},
   "outputs": [],
   "source": [
    "from main_head import *"
   ]
  },
  {
   "cell_type": "markdown",
   "metadata": {},
   "source": [
    "# Experiment 1: Empirical Studies Section 4.3 - 4.5\n",
    "## Overall Parameter Setup\n",
    "The overall parameter choice is set in the ``CVaR_parameter.py``. Below are some of parameters selected in our experiment."
   ]
  },
  {
   "cell_type": "code",
   "execution_count": 3,
   "metadata": {},
   "outputs": [],
   "source": [
    "# epsilon is the fixed parameter regarding optimizing CVaR, representing 1-\\eta\n",
    "epsilon = 0.05\n",
    "\n",
    "# for the whole rolling approach, the number of days we consider in each period\n",
    "## It is not just the physical days. Instead, in our paper, we consider the month as a unit. \n",
    "rolling_day = 1\n",
    "\n",
    "# It denotes whether we include the shortsale constraints in our optimization model\n",
    "## 0 represents that we incorporate the shortsale constraint: x_i >= 0 in our paper\n",
    "shortsale_sign = 0\n",
    "\n",
    "# cross validation choice\n",
    "## cv_type == -1 means no  \n",
    "## cv_type == 1 means gridsearch in cross validation\n",
    "cv_type = 1\n",
    "\n",
    "# the K-fold number in cross validation\n",
    "fold_number = 4\n",
    "\n",
    "# the possible theta param corresponding to m in the paper) used in the cross validation\n",
    "theta_param = [0.02, 0.04, 0.06, 0.08, 0.1]\n",
    "\n",
    "# whether we take the risk-free rate into account in computing SR\n",
    "## true means we need to minus the risk-free rate from the dataset and false means not\n",
    "## Because DeMiguel's paper does not incorporate risk free rate, we do not incorporate that item too in the test statistics computation.\n",
    "sharpe_ratio_open = False\n",
    "\n",
    "#to make it more clearly, unit = 1 means the unit of portfolio dta is x%, unit = 100 means the unit of portfolio dta is x. \n",
    "unit = 1"
   ]
  },
  {
   "cell_type": "markdown",
   "metadata": {},
   "source": [
    "## Initial Specific Data Set Choice\n",
    "Below are the parameters that fix the data sets in the $\\texttt{factor model}$ folder. We choose the concrete dataset in that folder. By changing those parameters, we can switch to different datasets."
   ]
  },
  {
   "cell_type": "code",
   "execution_count": 4,
   "metadata": {},
   "outputs": [],
   "source": [
    "#choose the dataset name and the file path\n",
    "portfolio_number = 16\n",
    "freq = \"Monthly\"\n",
    "#Here as we all use the Monthly Data Set, we can fix that parameter\n",
    "\n",
    "value = \"\"\n",
    "#eq/not eq csv in the . Here we all use the original dataset class.\n",
    "\n",
    "#dta type\n",
    "## In DeMiguel's paper, the dta type are selected to be one in ['MKT', 'Country', 'S&P_sectors', 'IndustryPortfolios', 'FF']\n",
    "## When his dataset extended to 2019 Q1, the dta type are selected to be one in ['MKT2', 'Country2', 'S&P_sectors2', 'IndustryPortfolios2', 'FF22']\n",
    "## Their corresponding portfolio number is 3, 9, 11, 11, 21(24)\n",
    "## And in our case study, dta type are selected to be 'IndustryIndices' (16)\n",
    "data_type = \"IndustryIndices\"\n",
    "\n",
    "#select part of the data in the .csv file.\n",
    "## from start_time to train_test_split as the default train dataset; from train_test_split (not include) as the test dataset.\n",
    "start_time = 20040101\n",
    "end_time = 201905\n",
    "train_test_split = 20061231"
   ]
  },
  {
   "cell_type": "markdown",
   "metadata": {},
   "source": [
    "## Load the Data\n",
    "we load the return data and its corresponding factor data below using the class from ``data_process/input.py``.\n",
    "\n",
    "Note that the expressions for the model are explicitly written in the paper. We apply a rolling-sample approach with window size to be $M$. For the overall $T$ monthly-long data, in each month $t$, we use the dataset from months $t$ to $t + M - 1$ as input to solve the portfolio optimization problem. Then, we obtain the portfolio weights by solving the optimization problem for month $t + M$, where optimized weights $x_{i}^*$ are used to compute the returns $t + M$."
   ]
  },
  {
   "cell_type": "code",
   "execution_count": 5,
   "metadata": {},
   "outputs": [],
   "source": [
    "#data input\n",
    "Input_csv = Input(portfolio_number, freq, value, start_time, end_time, train_test_split, data_type)\n",
    "[data_head, data_parameter, csv_name] = Input_csv.parameter_output()\n",
    "[df_select, df_train] = Input_csv.data_load()\n",
    "\n",
    "df_factor = Input_csv.three_factor_load()\n",
    "#we do not include the risk free rate item into the computation of sharpe ratio\n",
    "if sharpe_ratio_open == False:\n",
    "    rfr_data = 0\n",
    "else:\n",
    "    rfr_data = Input_csv.risk_free_rate()"
   ]
  },
  {
   "cell_type": "markdown",
   "metadata": {},
   "source": [
    "## Evaluation \n",
    "To evaluate the performance of each model, we compute the following return statistics similar to what have done in DeMiguel et al. (2009b).The return statistics are computed in ``data_process/test_result.py`` and the turnover metric is computed in each model. We refer the output information to the ``result_hmm/xx.csv``.\n",
    "## Output Return Statistics Computation & Comparison\n",
    "### Sharpe ratio\n",
    "We denote the out-of-sample Sharpe ratio as the sample mean of the out-of-sample excess return $\\hat{\\mu}$ over the risk-free asset, then divided by their sample standard deviation, $\\hat{\\sigma}$:\n",
    "$$\\text{Sharpe ratio} = \\frac{\\hat{\\mu}}{\\hat{\\sigma}}$$\n",
    "### CEQ\n",
    "We measure the certainty equivalent (CEQ) return, defined as the risk-free rate that an investor is willing to take compared to a specific model.\n",
    "$$\\text{CEQ} = \\hat{\\mu} - \\frac{1}{2}\\hat{\\sigma}^2.$$\n",
    "### drawdown\n",
    "(Maximum) drawdown can be extracted from the formula: $-\\min\\{\\boldsymbol r_{M + 1},\\boldsymbol r_{M + 2},...,\\boldsymbol r_T \\}.$\n",
    "### turnover\n",
    "This is computed by the average of the $\\ell_1$ norm of the trades across the $N$ risky assets:\n",
    "$$\\text{Turnover} = \\frac{1}{T - M}\\sum_{t = 1}^{T - M}\\|\\boldsymbol x_{t + 1}^* - \\boldsymbol x_{t_+}\\|_1,$$\n",
    "where $\\boldsymbol x_{t+1}^*$ is the optimal portfolio weight vector at time $t + 1$ and $\\boldsymbol x_{t_+}$ is th portfolio weight right before rebalancing at time $t + 1$."
   ]
  },
  {
   "cell_type": "code",
   "execution_count": 7,
   "metadata": {},
   "outputs": [
    {
     "name": "stdout",
     "output_type": "stream",
     "text": [
      "done\n"
     ]
    }
   ],
   "source": [
    "csv_name = f'../output/{portfolio_number}Monthly_{data_type}.csv'\n",
    "#initiation for the test metric module\n",
    "#print the output into a separate csv file, separated by the dataset type + header\n",
    "Output_csv = output(csv_name, data_head, data_parameter)\n",
    "Output_csv.head()"
   ]
  },
  {
   "cell_type": "markdown",
   "metadata": {},
   "source": [
    "## Benchmark"
   ]
  },
  {
   "cell_type": "markdown",
   "metadata": {},
   "source": [
    "## Benchmark Strategies\n",
    "$\\texttt{method.rolling(shortsale)}$ represents the rolling-sample approach for each model.\n",
    "### Equally Weighted Portfolio\n",
    "This equally weighted strategy means that we consider the portfolio weight to be as follows for each of the $I$ risky assets:\n",
    "$$w_i = \\frac{1}{I},$$\n",
    "which gains popularity for its robustness in DeMiguel et al. (2009b)."
   ]
  },
  {
   "cell_type": "code",
   "execution_count": 8,
   "metadata": {},
   "outputs": [
    {
     "name": "stdout",
     "output_type": "stream",
     "text": [
      "184 36\n",
      "For the model with strategy name  EW portfolio\n",
      "The Monthly Sharpe Ratio =  0.10897235636499304\n",
      "CEQ =  0.002903016286052641\n",
      "Drawdown =  -0.3829684339776208\n",
      "Turnover =  0.037593675961054306\n",
      "=================================\n"
     ]
    },
    {
     "data": {
      "text/plain": [
       "-0.3829684339776208"
      ]
     },
     "execution_count": 8,
     "metadata": {},
     "output_type": "execute_result"
    }
   ],
   "source": [
    "# EW Portfolio\n",
    "naive = naive_strategy(df_select, df_train, rolling_day, portfolio_number, \"EW portfolio\")\n",
    "naive.rolling()\n",
    "Output_csv.return_info(naive, rfr_data)"
   ]
  },
  {
   "cell_type": "markdown",
   "metadata": {},
   "source": [
    "The following model requires the information of history returns $\\{\\boldsymbol{r}_1, \\boldsymbol{r}_2,...,\\boldsymbol{r}_M\\}$.\n",
    "## CVaR\n",
    "The optimization problem for the $\\texttt{CVaR}$ metric is computed below:\n",
    "$$\\min_{\\boldsymbol x \\in \\mathcal{X}, v \\in \\mathbb{R}}\\left\\{v+\\frac{1}{1-\\eta} \\frac{1}{M}\\sum\\limits_{i \\in[M]}\\left(-\\boldsymbol r_{i}^{\\prime} \\boldsymbol x-v\\right)^{+}\\right\\}$$"
   ]
  },
  {
   "cell_type": "code",
   "execution_count": 9,
   "metadata": {},
   "outputs": [
    {
     "name": "stdout",
     "output_type": "stream",
     "text": [
      "Set parameter Username\n",
      "Academic license - for non-commercial use only - expires 2024-01-21\n",
      "For the model with strategy name  CVaR\n",
      "The Monthly Sharpe Ratio =  0.013843392144446671\n",
      "CEQ =  6.174958883421386e-05\n",
      "Drawdown =  -0.26944224262581784\n",
      "Turnover =  0.16242807201509424\n",
      "=================================\n"
     ]
    },
    {
     "data": {
      "text/plain": [
       "-0.26944224262581784"
      ]
     },
     "execution_count": 9,
     "metadata": {},
     "output_type": "execute_result"
    }
   ],
   "source": [
    "# SAA-CVaR model\n",
    "saa_CVaR = SAA_CVaR(df_select, df_train, rolling_day, portfolio_number, 'CVaR')\n",
    "train_return = saa_CVaR.rolling()  \n",
    "Output_csv.return_info(saa_CVaR, rfr_data)"
   ]
  },
  {
   "cell_type": "markdown",
   "metadata": {},
   "source": [
    "## DR CVaR (Wasserstein)\n",
    "Common ways to illustrate the Wasserstein ambiguity set:\n",
    "$$F_{W}(\\theta)=\\left\\{\\mathbb{P} \\in \\mathcal{P}\\left(\\mathbb{R}^{I}\\right) ~\\left\\vert~ \\begin{array}{ll}{\\tilde{\\boldsymbol r} \\sim \\mathbb{P}}\\\\ {\\hat{\\mathbb{P}}_M:=\\frac{1}{M}\\sum_{n = 1}^{M}\\delta_{\\boldsymbol r_{n}}}\\\\{P(W_p(\\mathbb{P},\\hat{\\mathbb{P}}_M) \\leq \\theta) = 1}\\end{array}\\right.\\right\\}.$$"
   ]
  },
  {
   "cell_type": "code",
   "execution_count": 10,
   "metadata": {},
   "outputs": [
    {
     "name": "stdout",
     "output_type": "stream",
     "text": [
      "For the model with strategy name  DR CVaR (Wasserstein)\n",
      "The Monthly Sharpe Ratio =  0.10809414899889466\n",
      "CEQ =  0.0026316282654290754\n",
      "Drawdown =  -0.31969271666246135\n",
      "Turnover =  0.1924298093644551\n",
      "=================================\n"
     ]
    },
    {
     "data": {
      "text/plain": [
       "-0.31969271666246135"
      ]
     },
     "execution_count": 10,
     "metadata": {},
     "output_type": "execute_result"
    }
   ],
   "source": [
    "method_name = \"DR CVaR (Wasserstein)\"\n",
    "mean_constr = False\n",
    "fcvar_wasserstein2 = FCVaR_wasserstein2(df_select, df_train, rolling_day, portfolio_number, 1, method_name, cv_type, mean_constr)\n",
    "fcvar_wasserstein2.rolling()\n",
    "Output_csv.return_info(fcvar_wasserstein2, rfr_data)"
   ]
  },
  {
   "cell_type": "markdown",
   "metadata": {},
   "source": [
    "# DR Mean-CVaR (Momemts)\n",
    "The method proposed in ``Kang et al. (2019)``\n"
   ]
  },
  {
   "cell_type": "code",
   "execution_count": 11,
   "metadata": {},
   "outputs": [
    {
     "name": "stdout",
     "output_type": "stream",
     "text": [
      "For the model with strategy name  DR Mean-CVaR\n",
      "The Monthly Sharpe Ratio =  0.11463307753311866\n",
      "CEQ =  0.002256061185577186\n",
      "Drawdown =  -0.2889746071595095\n",
      "Turnover =  0.04970329407865262\n",
      "=================================\n"
     ]
    },
    {
     "data": {
      "text/plain": [
       "-0.2889746071595095"
      ]
     },
     "execution_count": 11,
     "metadata": {},
     "output_type": "execute_result"
    }
   ],
   "source": [
    "meancvar = mean_FCVaR(df_select, df_train, rolling_day, portfolio_number, 'DR Mean-CVaR')\n",
    "meancvar.rolling()\n",
    "Output_csv.return_info(meancvar, rfr_data)"
   ]
  },
  {
   "cell_type": "code",
   "execution_count": 12,
   "metadata": {},
   "outputs": [
    {
     "name": "stdout",
     "output_type": "stream",
     "text": [
      "For the model with strategy name  MVP\n",
      "The Monthly Sharpe Ratio =  0.029734776359044708\n",
      "CEQ =  0.0003172302101668024\n",
      "Drawdown =  -0.20196165266650912\n",
      "Turnover =  0.09954737987430717\n",
      "=================================\n"
     ]
    },
    {
     "data": {
      "text/plain": [
       "-0.20196165266650912"
      ]
     },
     "execution_count": 12,
     "metadata": {},
     "output_type": "execute_result"
    }
   ],
   "source": [
    "mvp = MVP(df_select, df_train, rolling_day, portfolio_number, df_factor, 'MVP')\n",
    "mvp.rolling(0)\n",
    "Output_csv.return_info(mvp, rfr_data)"
   ]
  },
  {
   "cell_type": "markdown",
   "metadata": {},
   "source": [
    "## Incoporate the Mean Constraint\n",
    "### How to incorporate the mean constraint:\n",
    "For a traditionally problem, the mean constraint refers to: $\\boldsymbol \\mu^{\\prime}\\boldsymbol x \\geq R.$ \n",
    "\n",
    "In the distributionally robust version, we incorporate the following mean constraint:\n",
    "$$\\inf_{\\mathbb{P} \\in F} \\mathbb{E}_{\\mathbb{P}}[\\boldsymbol r^{\\prime}\\boldsymbol x]\\geq R.$$"
   ]
  },
  {
   "cell_type": "markdown",
   "metadata": {},
   "source": [
    "## Our Proposed Model"
   ]
  },
  {
   "cell_type": "code",
   "execution_count": 13,
   "metadata": {},
   "outputs": [],
   "source": [
    "#whether to incorporate the worst-case mean constraint\n",
    "mean_sign = 'Mean-'\n",
    "\n",
    "#choice_index = 0 --> Bull & Bear;\n",
    "#choice_index = 1 --> Weathers\n",
    "#choice_index = 2 --> HMM\n",
    "choice_index = 2\n",
    "hmm_type = -1\n",
    "\n",
    "if mean_sign == \"\":\n",
    "    mean_constr = False\n",
    "else:\n",
    "    mean_constr = 'worst-case'\n",
    "\n",
    "cls_num_choice = [2, 4, 4]\n",
    "state_choice = ['BB', 'weathers', 'HMM']\n",
    "method_choice = ['(Bull & Bear)', '(Weathers)', '(HMM)']    "
   ]
  },
  {
   "cell_type": "markdown",
   "metadata": {},
   "source": [
    "### Pretrained for determining the Markovian States\n",
    "We use the MATLAB hmmtrain function for training the HMM model.\n",
    "\n",
    "And we use the difference between predicted GDP (CPI) and true GDP (CPI)to classify into 2 states.\n",
    "\n",
    "And Bull & Bear state results are saved in ``factor model/BB_state.csv``;\n",
    "\n",
    "Weathers results are saved in ``factor model/weathers_state.csv``;\n",
    "\n",
    "HMM results are saved in ``factor model/HMM_state.csv``.\n",
    "\n"
   ]
  },
  {
   "cell_type": "markdown",
   "metadata": {},
   "source": [
    "### Regime Determination\n",
    "We would first load the HMM / Weathers / Bull & Bear Classification result within the right train test time."
   ]
  },
  {
   "cell_type": "code",
   "execution_count": 14,
   "metadata": {},
   "outputs": [],
   "source": [
    "# Pretrain for Heterogeneous I\n",
    "cluster_num = cls_num_choice[choice_index]\n",
    "df_state_case = pd.read_csv('../factor model/' + state_choice[choice_index] + '_state.csv')\n",
    "str_state = [str(each_state) for each_state in list(df_state_case['Date'])]\n",
    "df_state_case['Date'] = str_state\n",
    "mkt_state = df_state_case[((df_state_case['Date'])>=str(start_time))&(df_state_case['Date']<str(end_time))]['state']\n"
   ]
  },
  {
   "cell_type": "markdown",
   "metadata": {},
   "source": [
    "#### RS CVaR Model\n",
    "i.e. our proposed model with $\\theta = 0$."
   ]
  },
  {
   "cell_type": "code",
   "execution_count": 15,
   "metadata": {},
   "outputs": [
    {
     "name": "stdout",
     "output_type": "stream",
     "text": [
      "0\n",
      "1\n",
      "2\n",
      "3\n",
      "4\n",
      "5\n",
      "6\n",
      "7\n",
      "8\n",
      "9\n",
      "10\n",
      "11\n",
      "12\n",
      "13\n",
      "14\n",
      "15\n",
      "16\n",
      "17\n",
      "18\n",
      "19\n",
      "20\n",
      "21\n",
      "22\n",
      "23\n",
      "24\n",
      "25\n",
      "26\n",
      "27\n",
      "28\n",
      "29\n",
      "30\n",
      "31\n",
      "32\n",
      "33\n",
      "34\n",
      "35\n",
      "36\n",
      "37\n",
      "38\n",
      "39\n",
      "40\n",
      "41\n",
      "42\n",
      "43\n",
      "44\n",
      "45\n",
      "46\n",
      "47\n",
      "48\n",
      "49\n",
      "50\n",
      "51\n",
      "52\n",
      "53\n",
      "54\n",
      "55\n",
      "56\n",
      "57\n",
      "58\n",
      "59\n",
      "60\n",
      "61\n",
      "62\n",
      "63\n",
      "64\n",
      "65\n",
      "66\n",
      "67\n",
      "68\n",
      "69\n",
      "70\n",
      "71\n",
      "72\n",
      "73\n",
      "74\n",
      "75\n",
      "76\n",
      "77\n",
      "78\n",
      "79\n",
      "80\n",
      "81\n",
      "82\n",
      "83\n",
      "84\n",
      "85\n",
      "86\n",
      "87\n",
      "88\n",
      "89\n",
      "90\n",
      "91\n",
      "92\n",
      "93\n",
      "94\n",
      "95\n",
      "96\n",
      "97\n",
      "98\n",
      "99\n",
      "100\n",
      "101\n",
      "102\n",
      "103\n",
      "104\n",
      "105\n",
      "106\n",
      "107\n",
      "108\n",
      "109\n",
      "110\n",
      "111\n",
      "112\n",
      "113\n",
      "114\n",
      "115\n",
      "116\n",
      "117\n",
      "118\n",
      "119\n",
      "120\n",
      "121\n",
      "122\n",
      "123\n",
      "124\n",
      "125\n",
      "126\n",
      "127\n",
      "128\n",
      "129\n",
      "130\n",
      "131\n",
      "132\n",
      "133\n",
      "134\n",
      "135\n",
      "136\n",
      "137\n",
      "138\n",
      "139\n",
      "140\n",
      "141\n",
      "142\n",
      "143\n",
      "144\n",
      "145\n",
      "146\n",
      "147\n"
     ]
    }
   ],
   "source": [
    "method_name = 'RS ' + mean_sign + 'CVaR ' + method_choice[choice_index]\n",
    "cv_type = -1\n",
    "mean_cvar_mkt = FCVaR_HMM_wasserstein(df_select, df_train, rolling_day, portfolio_number, df_factor, cluster_num, method_name, mkt_state, hmm_type, cv_type, mean_constr)\n",
    "mean_cvar_mkt.theta = 0\n",
    "mean_cvar_mkt.rolling()"
   ]
  },
  {
   "cell_type": "code",
   "execution_count": 16,
   "metadata": {},
   "outputs": [
    {
     "name": "stdout",
     "output_type": "stream",
     "text": [
      "For the model with strategy name  RS Mean-CVaR (HMM)\n",
      "The Monthly Sharpe Ratio =  0.08175997523167387\n",
      "CEQ =  0.0016319633090451178\n",
      "Drawdown =  -0.2714302341705067\n",
      "Turnover =  0.5865672746850097\n",
      "=================================\n"
     ]
    },
    {
     "data": {
      "text/plain": [
       "-0.2714302341705067"
      ]
     },
     "execution_count": 16,
     "metadata": {},
     "output_type": "execute_result"
    }
   ],
   "source": [
    "Output_csv.return_info(mean_cvar_mkt, rfr_data)"
   ]
  },
  {
   "cell_type": "markdown",
   "metadata": {},
   "source": [
    "#### Our RSDR model"
   ]
  },
  {
   "cell_type": "code",
   "execution_count": 17,
   "metadata": {},
   "outputs": [
    {
     "name": "stdout",
     "output_type": "stream",
     "text": [
      "0\n",
      "1\n",
      "Unable to retrieve attribute 'objVal'\n",
      "2\n",
      "Unable to retrieve attribute 'objVal'\n",
      "Unable to retrieve attribute 'objVal'\n",
      "3\n",
      "Unable to retrieve attribute 'objVal'\n",
      "4\n",
      "Unable to retrieve attribute 'objVal'\n",
      "Unable to retrieve attribute 'objVal'\n",
      "5\n",
      "Unable to retrieve attribute 'objVal'\n",
      "Unable to retrieve attribute 'objVal'\n",
      "6\n",
      "Unable to retrieve attribute 'objVal'\n",
      "Unable to retrieve attribute 'objVal'\n",
      "7\n",
      "Unable to retrieve attribute 'objVal'\n",
      "8\n",
      "Unable to retrieve attribute 'objVal'\n",
      "Unable to retrieve attribute 'objVal'\n",
      "9\n",
      "Unable to retrieve attribute 'objVal'\n",
      "Unable to retrieve attribute 'objVal'\n",
      "10\n",
      "Unable to retrieve attribute 'objVal'\n",
      "11\n",
      "Unable to retrieve attribute 'objVal'\n",
      "Unable to retrieve attribute 'objVal'\n",
      "12\n",
      "Unable to retrieve attribute 'objVal'\n",
      "Unable to retrieve attribute 'objVal'\n",
      "13\n",
      "14\n",
      "15\n",
      "Unable to retrieve attribute 'objVal'\n",
      "16\n",
      "17\n",
      "18\n",
      "19\n",
      "Unable to retrieve attribute 'objVal'\n",
      "20\n",
      "21\n",
      "Unable to retrieve attribute 'objVal'\n",
      "Unable to retrieve attribute 'objVal'\n",
      "22\n",
      "Unable to retrieve attribute 'objVal'\n",
      "Unable to retrieve attribute 'objVal'\n",
      "23\n",
      "Unable to retrieve attribute 'objVal'\n",
      "Unable to retrieve attribute 'objVal'\n",
      "24\n",
      "Unable to retrieve attribute 'objVal'\n",
      "Unable to retrieve attribute 'objVal'\n",
      "25\n",
      "Unable to retrieve attribute 'objVal'\n",
      "Unable to retrieve attribute 'objVal'\n",
      "26\n",
      "Unable to retrieve attribute 'objVal'\n",
      "27\n",
      "Unable to retrieve attribute 'objVal'\n",
      "Unable to retrieve attribute 'objVal'\n",
      "28\n",
      "Unable to retrieve attribute 'objVal'\n",
      "Unable to retrieve attribute 'objVal'\n",
      "29\n",
      "Unable to retrieve attribute 'objVal'\n",
      "30\n",
      "Unable to retrieve attribute 'objVal'\n",
      "31\n",
      "Unable to retrieve attribute 'objVal'\n",
      "Unable to retrieve attribute 'objVal'\n",
      "32\n",
      "Unable to retrieve attribute 'objVal'\n",
      "Unable to retrieve attribute 'objVal'\n",
      "33\n",
      "Unable to retrieve attribute 'objVal'\n",
      "Unable to retrieve attribute 'objVal'\n",
      "34\n",
      "Unable to retrieve attribute 'objVal'\n",
      "Unable to retrieve attribute 'objVal'\n",
      "35\n",
      "Unable to retrieve attribute 'objVal'\n",
      "Unable to retrieve attribute 'objVal'\n",
      "36\n",
      "Unable to retrieve attribute 'objVal'\n",
      "Unable to retrieve attribute 'objVal'\n",
      "37\n",
      "Unable to retrieve attribute 'objVal'\n",
      "Unable to retrieve attribute 'objVal'\n",
      "38\n",
      "Unable to retrieve attribute 'objVal'\n",
      "39\n",
      "Unable to retrieve attribute 'objVal'\n",
      "40\n",
      "Unable to retrieve attribute 'objVal'\n",
      "41\n",
      "Unable to retrieve attribute 'objVal'\n",
      "42\n",
      "Unable to retrieve attribute 'objVal'\n",
      "43\n",
      "44\n",
      "Unable to retrieve attribute 'objVal'\n",
      "45\n",
      "Unable to retrieve attribute 'objVal'\n",
      "46\n",
      "Unable to retrieve attribute 'objVal'\n",
      "47\n",
      "Unable to retrieve attribute 'objVal'\n",
      "48\n",
      "Unable to retrieve attribute 'objVal'\n",
      "Unable to retrieve attribute 'objVal'\n",
      "49\n",
      "Unable to retrieve attribute 'objVal'\n",
      "Unable to retrieve attribute 'objVal'\n",
      "50\n",
      "Unable to retrieve attribute 'objVal'\n",
      "Unable to retrieve attribute 'objVal'\n",
      "51\n",
      "Unable to retrieve attribute 'objVal'\n",
      "Unable to retrieve attribute 'objVal'\n",
      "52\n",
      "Unable to retrieve attribute 'objVal'\n",
      "Unable to retrieve attribute 'objVal'\n",
      "53\n",
      "Unable to retrieve attribute 'objVal'\n",
      "Unable to retrieve attribute 'objVal'\n",
      "54\n",
      "Unable to retrieve attribute 'objVal'\n",
      "Unable to retrieve attribute 'objVal'\n",
      "55\n",
      "Unable to retrieve attribute 'objVal'\n",
      "Unable to retrieve attribute 'objVal'\n",
      "56\n",
      "Unable to retrieve attribute 'objVal'\n",
      "Unable to retrieve attribute 'objVal'\n",
      "57\n",
      "Unable to retrieve attribute 'objVal'\n",
      "Unable to retrieve attribute 'objVal'\n",
      "Unable to retrieve attribute 'objVal'\n",
      "58\n",
      "Unable to retrieve attribute 'objVal'\n",
      "59\n",
      "60\n",
      "Unable to retrieve attribute 'objVal'\n",
      "61\n",
      "Unable to retrieve attribute 'objVal'\n",
      "62\n",
      "Unable to retrieve attribute 'objVal'\n",
      "63\n",
      "Unable to retrieve attribute 'objVal'\n",
      "64\n",
      "Unable to retrieve attribute 'objVal'\n",
      "65\n",
      "Unable to retrieve attribute 'objVal'\n",
      "Unable to retrieve attribute 'objVal'\n",
      "66\n",
      "Unable to retrieve attribute 'objVal'\n",
      "Unable to retrieve attribute 'objVal'\n",
      "67\n",
      "Unable to retrieve attribute 'objVal'\n",
      "Unable to retrieve attribute 'objVal'\n",
      "68\n",
      "Unable to retrieve attribute 'objVal'\n",
      "Unable to retrieve attribute 'objVal'\n",
      "Unable to retrieve attribute 'objVal'\n",
      "69\n",
      "Unable to retrieve attribute 'objVal'\n",
      "Unable to retrieve attribute 'objVal'\n",
      "Unable to retrieve attribute 'objVal'\n",
      "70\n",
      "Unable to retrieve attribute 'objVal'\n",
      "Unable to retrieve attribute 'objVal'\n",
      "Unable to retrieve attribute 'objVal'\n",
      "71\n",
      "Unable to retrieve attribute 'objVal'\n",
      "Unable to retrieve attribute 'objVal'\n",
      "Unable to retrieve attribute 'objVal'\n",
      "72\n",
      "Unable to retrieve attribute 'objVal'\n",
      "Unable to retrieve attribute 'objVal'\n",
      "Unable to retrieve attribute 'objVal'\n",
      "73\n",
      "Unable to retrieve attribute 'objVal'\n",
      "Unable to retrieve attribute 'objVal'\n",
      "74\n",
      "Unable to retrieve attribute 'objVal'\n",
      "Unable to retrieve attribute 'objVal'\n",
      "75\n",
      "Unable to retrieve attribute 'objVal'\n",
      "Unable to retrieve attribute 'objVal'\n",
      "76\n",
      "Unable to retrieve attribute 'objVal'\n",
      "Unable to retrieve attribute 'objVal'\n",
      "77\n",
      "Unable to retrieve attribute 'objVal'\n",
      "Unable to retrieve attribute 'objVal'\n",
      "78\n",
      "Unable to retrieve attribute 'objVal'\n",
      "Unable to retrieve attribute 'objVal'\n",
      "79\n",
      "Unable to retrieve attribute 'objVal'\n",
      "Unable to retrieve attribute 'objVal'\n",
      "Unable to retrieve attribute 'objVal'\n",
      "80\n",
      "Unable to retrieve attribute 'objVal'\n",
      "81\n",
      "Unable to retrieve attribute 'objVal'\n",
      "Unable to retrieve attribute 'objVal'\n",
      "82\n",
      "Unable to retrieve attribute 'objVal'\n",
      "Unable to retrieve attribute 'objVal'\n",
      "Unable to retrieve attribute 'objVal'\n",
      "83\n",
      "Unable to retrieve attribute 'objVal'\n",
      "Unable to retrieve attribute 'objVal'\n",
      "Unable to retrieve attribute 'objVal'\n",
      "84\n",
      "Unable to retrieve attribute 'objVal'\n",
      "Unable to retrieve attribute 'objVal'\n",
      "Unable to retrieve attribute 'objVal'\n",
      "85\n",
      "Unable to retrieve attribute 'objVal'\n",
      "Unable to retrieve attribute 'objVal'\n",
      "Unable to retrieve attribute 'objVal'\n",
      "86\n",
      "Unable to retrieve attribute 'objVal'\n",
      "Unable to retrieve attribute 'objVal'\n",
      "Unable to retrieve attribute 'objVal'\n",
      "87\n",
      "Unable to retrieve attribute 'objVal'\n",
      "Unable to retrieve attribute 'objVal'\n",
      "Unable to retrieve attribute 'objVal'\n",
      "88\n",
      "Unable to retrieve attribute 'objVal'\n",
      "Unable to retrieve attribute 'objVal'\n",
      "Unable to retrieve attribute 'objVal'\n",
      "89\n",
      "Unable to retrieve attribute 'objVal'\n",
      "Unable to retrieve attribute 'objVal'\n",
      "90\n",
      "Unable to retrieve attribute 'objVal'\n",
      "Unable to retrieve attribute 'objVal'\n",
      "91\n",
      "Unable to retrieve attribute 'objVal'\n",
      "Unable to retrieve attribute 'objVal'\n",
      "92\n",
      "Unable to retrieve attribute 'objVal'\n",
      "93\n",
      "Unable to retrieve attribute 'objVal'\n",
      "Unable to retrieve attribute 'objVal'\n",
      "94\n",
      "Unable to retrieve attribute 'objVal'\n",
      "Unable to retrieve attribute 'objVal'\n",
      "95\n",
      "Unable to retrieve attribute 'objVal'\n",
      "96\n",
      "Unable to retrieve attribute 'objVal'\n",
      "97\n",
      "98\n",
      "Unable to retrieve attribute 'objVal'\n",
      "99\n",
      "Unable to retrieve attribute 'objVal'\n",
      "100\n",
      "Unable to retrieve attribute 'objVal'\n",
      "101\n",
      "Unable to retrieve attribute 'objVal'\n",
      "102\n",
      "103\n",
      "Unable to retrieve attribute 'objVal'\n",
      "104\n",
      "105\n",
      "Unable to retrieve attribute 'objVal'\n",
      "106\n",
      "Unable to retrieve attribute 'objVal'\n",
      "107\n",
      "Unable to retrieve attribute 'objVal'\n",
      "108\n",
      "Unable to retrieve attribute 'objVal'\n",
      "109\n",
      "Unable to retrieve attribute 'objVal'\n",
      "Unable to retrieve attribute 'objVal'\n",
      "110\n",
      "Unable to retrieve attribute 'objVal'\n",
      "Unable to retrieve attribute 'objVal'\n",
      "111\n",
      "Unable to retrieve attribute 'objVal'\n",
      "112\n",
      "Unable to retrieve attribute 'objVal'\n",
      "113\n",
      "Unable to retrieve attribute 'objVal'\n",
      "Unable to retrieve attribute 'objVal'\n",
      "114\n",
      "Unable to retrieve attribute 'objVal'\n",
      "Unable to retrieve attribute 'objVal'\n",
      "115\n",
      "Unable to retrieve attribute 'objVal'\n",
      "116\n",
      "Unable to retrieve attribute 'objVal'\n",
      "117\n",
      "Unable to retrieve attribute 'objVal'\n",
      "118\n",
      "Unable to retrieve attribute 'objVal'\n",
      "119\n",
      "Unable to retrieve attribute 'objVal'\n",
      "120\n",
      "Unable to retrieve attribute 'objVal'\n",
      "121\n",
      "Unable to retrieve attribute 'objVal'\n",
      "122\n",
      "Unable to retrieve attribute 'objVal'\n",
      "123\n",
      "Unable to retrieve attribute 'objVal'\n",
      "Unable to retrieve attribute 'objVal'\n",
      "124\n",
      "Unable to retrieve attribute 'objVal'\n",
      "125\n",
      "Unable to retrieve attribute 'objVal'\n",
      "126\n",
      "Unable to retrieve attribute 'objVal'\n",
      "127\n",
      "Unable to retrieve attribute 'objVal'\n",
      "128\n",
      "Unable to retrieve attribute 'objVal'\n",
      "129\n",
      "Unable to retrieve attribute 'objVal'\n",
      "130\n",
      "Unable to retrieve attribute 'objVal'\n",
      "131\n",
      "Unable to retrieve attribute 'objVal'\n",
      "132\n",
      "Unable to retrieve attribute 'objVal'\n",
      "Unable to retrieve attribute 'objVal'\n",
      "133\n",
      "Unable to retrieve attribute 'objVal'\n",
      "Unable to retrieve attribute 'objVal'\n",
      "134\n",
      "Unable to retrieve attribute 'objVal'\n",
      "135\n",
      "Unable to retrieve attribute 'objVal'\n",
      "136\n",
      "Unable to retrieve attribute 'objVal'\n",
      "137\n",
      "Unable to retrieve attribute 'objVal'\n",
      "138\n",
      "Unable to retrieve attribute 'objVal'\n",
      "139\n",
      "140\n",
      "Unable to retrieve attribute 'objVal'\n",
      "141\n",
      "142\n",
      "Unable to retrieve attribute 'objVal'\n",
      "Unable to retrieve attribute 'objVal'\n",
      "143\n",
      "144\n",
      "Unable to retrieve attribute 'objVal'\n",
      "145\n",
      "146\n",
      "147\n"
     ]
    }
   ],
   "source": [
    "# RSDR CVaR (HMM)\n",
    "cv_type = 1\n",
    "method_name = 'RSDR ' + mean_sign + 'CVaR ' + method_choice[choice_index]\n",
    "mean_fcvar_mkt = FCVaR_HMM_wasserstein(df_select, df_train, rolling_day, portfolio_number, df_factor, cluster_num, method_name, mkt_state, hmm_type, cv_type, mean_constr)\n",
    "mean_fcvar_mkt.rolling()"
   ]
  },
  {
   "cell_type": "code",
   "execution_count": 18,
   "metadata": {},
   "outputs": [
    {
     "name": "stdout",
     "output_type": "stream",
     "text": [
      "For the model with strategy name  RSDR Mean-CVaR (HMM)\n",
      "The Monthly Sharpe Ratio =  0.1362758246673111\n",
      "CEQ =  0.0034332550342641146\n",
      "Drawdown =  -0.3251899604822308\n",
      "Turnover =  0.24899216262419097\n",
      "=================================\n"
     ]
    },
    {
     "data": {
      "text/plain": [
       "-0.3251899604822308"
      ]
     },
     "execution_count": 18,
     "metadata": {},
     "output_type": "execute_result"
    }
   ],
   "source": [
    "#return statistics computation for our policy\n",
    "Output_csv.return_info(mean_fcvar_mkt, rfr_data)"
   ]
  },
  {
   "cell_type": "code",
   "execution_count": null,
   "metadata": {},
   "outputs": [],
   "source": []
  }
 ],
 "metadata": {
  "kernelspec": {
   "display_name": "Python 3.9.7 ('base')",
   "language": "python",
   "name": "python3"
  },
  "language_info": {
   "codemirror_mode": {
    "name": "ipython",
    "version": 3
   },
   "file_extension": ".py",
   "mimetype": "text/x-python",
   "name": "python",
   "nbconvert_exporter": "python",
   "pygments_lexer": "ipython3",
   "version": "3.9.7"
  },
  "vscode": {
   "interpreter": {
    "hash": "40d3a090f54c6569ab1632332b64b2c03c39dcf918b08424e98f38b5ae0af88f"
   }
  }
 },
 "nbformat": 4,
 "nbformat_minor": 2
}
